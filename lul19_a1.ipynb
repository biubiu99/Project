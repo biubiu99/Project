{
 "cells": [
  {
   "cell_type": "markdown",
   "metadata": {},
   "source": [
    "Before you turn this problem in, make sure everything runs as expected. First, **restart the kernel** (in the menubar, select Kernel$\\rightarrow$Restart) and then **run all cells** (in the menubar, select Cell$\\rightarrow$Run All).\n",
    "\n",
    "Make sure you fill in any place that says `YOUR CODE HERE` or \"YOUR ANSWER HERE\", as well as your name and collaborators below:"
   ]
  },
  {
   "cell_type": "code",
   "execution_count": 11,
   "metadata": {},
   "outputs": [],
   "source": [
    "NAME = \"Ling Lu\"\n",
    "COLLABORATORS = \"\""
   ]
  },
  {
   "cell_type": "markdown",
   "metadata": {},
   "source": [
    "---"
   ]
  },
  {
   "cell_type": "markdown",
   "metadata": {
    "deletable": false,
    "editable": false,
    "nbgrader": {
     "cell_type": "markdown",
     "checksum": "d002c95f6f4d3bfe630cd4d06a37f00c",
     "grade": false,
     "grade_id": "cell-885db7fd7316b46d",
     "locked": true,
     "schema_version": 3,
     "solution": false,
     "task": false
    }
   },
   "source": [
    "# Homework 1\n",
    "\n",
    "Submit your assignment as a Jupyter notebook file called `macid_hw1.ipynb`, where `macid` is replaced with your MacID from your McMaster email address. (For example: since my McMaster email address is pocucan@mcmaster.ca, I would submit a file called `pocucan_hw1.ipynb`.) Submit this file to the appropriate MacDrive link by **OCTOBER 9TH 2020, 11:59 PM **\n",
    "\n",
    "To complete your assignment, edit the function definitions in this template (then rename the file appropriately, as above). (Don't forget to use appropriate `return()` statements in your functions!) **Do not alter any other part of this template.**\n",
    "\n",
    "While developing and testing your code, it might be helpful to use\n",
    "`print` statements, but please remove them before submitting your solution. The template contains several `assert` statements that when executed will test your code.\n",
    "\n",
    "Any file submitted for grading that does not conform to the specifications above will lead to a grade of zero on the assignment.\n",
    "\n",
    "Before submitting your solution, you should make sure that it runs properly. To do this, you can open it in the Jupyter notebook server that comes installed with Anaconda, or you can use the McMaster Jupyter server, by going to the website https://mcmaster.syzygy.ca/. (Try running `Kernel > Restart & Run all` from the menu to run all of your code from scratch and make sure nothing is left out.) Feel free to use the Spyder IDE, or some other IDE, to develop your code before entering it into the Jupyter notebook that you submit.\n",
    "\n",
    "Your grade for each question will depend on whether or not your code correctly handles not just the test cases provided in the template, but other test cases that will be run on your solutions.\n",
    "\n",
    "Do not leave this assignment until the last minute; last-minute computer/internet issues on your part are your problem, not ours ...\n",
    "\n",
    "Late assignments will be penalized 25% per day.\n",
    "\n",
    "All work submitted for grading must be your own. You may discuss homework problems and related material with other students, but you must not submit work copied from others or from the internet.  If you use any internet resources for help, you **must** list them as comments (##) in your answer. \n",
    "\n",
    "Do not copy code from any other students, this is the fastest way for me to give you a 0. "
   ]
  },
  {
   "cell_type": "markdown",
   "metadata": {
    "deletable": false,
    "editable": false,
    "nbgrader": {
     "cell_type": "markdown",
     "checksum": "30a0c9325c6da62139cbd88288b1f6b7",
     "grade": false,
     "grade_id": "cell-05ebe7241e1f0144",
     "locked": true,
     "schema_version": 3,
     "solution": false,
     "task": false
    }
   },
   "source": [
    "### REMOVE ALL raise NotImplemented() lines from your code!"
   ]
  },
  {
   "cell_type": "markdown",
   "metadata": {
    "deletable": false,
    "editable": false,
    "nbgrader": {
     "cell_type": "markdown",
     "checksum": "867740c55428ab2c2ac4f80b82d51edd",
     "grade": false,
     "grade_id": "cell-f9cf8a3f10c8c581",
     "locked": true,
     "schema_version": 3,
     "solution": false,
     "task": false
    }
   },
   "source": [
    "### REMOVE ALL raise NotImplemented() lines from your code!"
   ]
  },
  {
   "cell_type": "code",
   "execution_count": 12,
   "metadata": {
    "deletable": false,
    "editable": false,
    "nbgrader": {
     "cell_type": "code",
     "checksum": "b91825208491b35a1ab8a02da61dc665",
     "grade": false,
     "grade_id": "cell-b6a69953ea274340",
     "locked": true,
     "schema_version": 3,
     "solution": false,
     "task": false
    }
   },
   "outputs": [],
   "source": [
    "import numpy as np # import numpy module \n",
    "import matplotlib.pyplot as pyplot # import pyplot module "
   ]
  },
  {
   "cell_type": "markdown",
   "metadata": {
    "deletable": false,
    "editable": false,
    "nbgrader": {
     "cell_type": "markdown",
     "checksum": "23d31170c9bd85fc8c4ce7d135f451db",
     "grade": false,
     "grade_id": "cell-44f48586efb05519",
     "locked": true,
     "schema_version": 3,
     "solution": false,
     "task": false
    }
   },
   "source": [
    "## 1. Sigmoid Kernels (4 points)\n",
    "\n",
    "A Kernel function measures the similarity of two arguments. The Sigmoid Kernel was inspired by the multi-layer perceptron. For given ``np.matrix`` vectors ``x`` and ``y``, of size `(1,n)`, write the function `sigmoid_kernel(x,y,gamma,r)`: \n",
    "\n",
    "$$ k(x,y) = \\tanh \\left(\\gamma\\mathbf{x}\\mathbf{y}^T+r \\right) $$ .\n",
    "\n",
    "The function must return a float."
   ]
  },
  {
   "cell_type": "code",
   "execution_count": 13,
   "metadata": {
    "deletable": false,
    "nbgrader": {
     "cell_type": "code",
     "checksum": "3fa726e3975c7607ded6b86bb6f56ec8",
     "grade": false,
     "grade_id": "cell-aa041a62adb61ef2",
     "locked": false,
     "schema_version": 3,
     "solution": true,
     "task": false
    }
   },
   "outputs": [],
   "source": [
    "def sigmoid_kernel(x,y,gamma,r):\n",
    "    \"\"\"Calculates the sigmoid kernel for vectors x and y. both x and y are horizontal vector inputs.\n",
    "    x : (1,n) np.matrix \n",
    "    y : (1,n) np.matrix\n",
    "    gamma : float parameter\n",
    "    r : float parameter\n",
    "    \"\"\"\n",
    "\n",
    "    # YOUR CODE HERE\n",
    "    y_t=np.matrix.transpose(y)\n",
    "    xy_t=(x*y_t)[0,0]\n",
    "    return(np.tanh(gamma*xy_t+r))"
   ]
  },
  {
   "cell_type": "code",
   "execution_count": 4,
   "metadata": {
    "deletable": false,
    "editable": false,
    "nbgrader": {
     "cell_type": "code",
     "checksum": "4b310dc7a4a120b0fa762f49b8488d88",
     "grade": true,
     "grade_id": "cell-a39104464fc7e94e",
     "locked": true,
     "points": 4,
     "schema_version": 3,
     "solution": false,
     "task": false
    }
   },
   "outputs": [],
   "source": [
    "# tests are hidden here... \n"
   ]
  },
  {
   "cell_type": "markdown",
   "metadata": {
    "deletable": false,
    "editable": false,
    "nbgrader": {
     "cell_type": "markdown",
     "checksum": "a154fe249279ba84471fc95b852a160f",
     "grade": false,
     "grade_id": "cell-a659de837e9b3b2c",
     "locked": true,
     "schema_version": 3,
     "solution": false,
     "task": false
    }
   },
   "source": [
    "## 2. Gaussian Process Kernels (6 points)\n",
    "\n",
    "GP kernels are often selected to handle the covariance between some vectors. For given ``np.matrix`` vectors ``x`` and ``y``, of size `(1,n)`, write the function `squared_iso(x,y,sigma,l)` that constructs an `(n,n)` matrix using the following form: \n",
    "\n",
    "$$ K(x,y) = \\left\\{  \\sigma\\exp \\left(\\frac{-1}{2l^2}(x_i - y_j)^2 \\right)   \\right\\}_{i,j \\in 1,\\dots, n} $$ \n",
    "\n",
    "The function must return an `np.matrix` of size `(n,n)` with each entry `i,j` corresponding to the formula above. Assume all inputs `x,y,sigma,l` are valid inputs. Also note that `i` indexes the entries of the $x$ vector, and `j` the $y$ vector.\n",
    "\n"
   ]
  },
  {
   "cell_type": "code",
   "execution_count": 14,
   "metadata": {
    "deletable": false,
    "nbgrader": {
     "cell_type": "code",
     "checksum": "2d17ef1eab89f26bb49528c56a5644cc",
     "grade": false,
     "grade_id": "cell-b8f45eb736262e13",
     "locked": false,
     "schema_version": 3,
     "solution": true,
     "task": false
    }
   },
   "outputs": [],
   "source": [
    "def squared_iso(x,y,sigma,l):\n",
    "    \"\"\"Calculates the squared exponential kernel for vectors x and y. x and y are both horizontal vectors. \n",
    "    x : (1,n) np.matrix \n",
    "    y : (1,n) np.matrix\n",
    "    sigma : float parameter\n",
    "    l : float parameter\n",
    "    \"\"\"\n",
    "\n",
    "    # YOUR CODE HERE\n",
    "    n=x.size\n",
    "    A=(np.matrix(np.zeros(n*n)).reshape(n,n))\n",
    "    for i in range(n):\n",
    "        for j in range(n):\n",
    "            k= sigma*np.exp(((-1)*(x[0,i]-y[0,j])**2)/(2*(l**2)))\n",
    "            A[i,j]=k\n",
    "    return A\n",
    "        "
   ]
  },
  {
   "cell_type": "code",
   "execution_count": 6,
   "metadata": {
    "deletable": false,
    "editable": false,
    "nbgrader": {
     "cell_type": "code",
     "checksum": "4049202b9e17bd7903d2ae066923a414",
     "grade": true,
     "grade_id": "cell-253c286b440ceb3d",
     "locked": true,
     "points": 6,
     "schema_version": 3,
     "solution": false,
     "task": false
    }
   },
   "outputs": [],
   "source": [
    "# tests are hidden here... \n"
   ]
  },
  {
   "cell_type": "markdown",
   "metadata": {
    "deletable": false,
    "editable": false,
    "nbgrader": {
     "cell_type": "markdown",
     "checksum": "5d9583c5089b771e422915b243de0a9f",
     "grade": false,
     "grade_id": "cell-f93378a1fdc0de42",
     "locked": true,
     "schema_version": 3,
     "solution": false,
     "task": false
    }
   },
   "source": [
    "### REMOVE ALL raise NotImplemented() lines from your code!"
   ]
  },
  {
   "cell_type": "markdown",
   "metadata": {
    "deletable": false,
    "editable": false,
    "nbgrader": {
     "cell_type": "markdown",
     "checksum": "3718980645935397189dfb95e829685e",
     "grade": false,
     "grade_id": "cell-4ccb172a8fc2f945",
     "locked": true,
     "schema_version": 3,
     "solution": false,
     "task": false
    }
   },
   "source": [
    "## 3. The Reshaper (6 points)\n",
    "\n",
    "For a given `np.matrix` variable `x` of size `(1,n)` there may exist a number of possible reshaped matrices. For example, for a matrix `A = np.matrix([1,2,3,4,5,6])` there exists a `(1,6),(2,3),(3,2),(6,1)` possible reshaped matrices. The first one being the original matrix `A`. Write a function `reshape_collector(X)` that takes in a matrix of size `(1,n)` and returns a `list` of all possible reshaped matrices. We will only consider matrices of dimension two. \n",
    "\n",
    "For example, an input matrix of ``np.matrix([1,2,3,4])`` will return a list as such:\n",
    "\n",
    "``\n",
    "[np.matrix([1,2,3,4]),\n",
    "np.matrix([[1,2],\n",
    "           [3,4]]),\n",
    "np.matrix([[1],\n",
    "           [2],\n",
    "           [3],\n",
    "           [4]])]\n",
    "``\n",
    "\n",
    "Note that they must be in a similar order as `(1,6),(2,3),(3,2),(6,1)`.\n",
    "\n",
    "\n",
    "\n",
    "\n",
    "\n"
   ]
  },
  {
   "cell_type": "code",
   "execution_count": 16,
   "metadata": {
    "deletable": false,
    "nbgrader": {
     "cell_type": "code",
     "checksum": "6ff987db43287850e63d3ff0e7973925",
     "grade": false,
     "grade_id": "cell-2e251c573d1c3126",
     "locked": false,
     "schema_version": 3,
     "solution": true,
     "task": false
    }
   },
   "outputs": [],
   "source": [
    "def reshape_collector(X):\n",
    "    \"\"\" Takes in a np.matrix X and returns a list of all possible reshaped matrices\n",
    "    X : (1,n) np.matrix \n",
    "    \"\"\"\n",
    "    # YOUR CODE HERE\n",
    "    A=[]\n",
    "    length=X.size\n",
    "    for i in range (1,(length+1)):\n",
    "        if length%i == 0:\n",
    "            y=np.reshape(X,(i,-1))\n",
    "            A.append(y)\n",
    "\n",
    "    return A   "
   ]
  },
  {
   "cell_type": "code",
   "execution_count": 8,
   "metadata": {
    "deletable": false,
    "editable": false,
    "nbgrader": {
     "cell_type": "code",
     "checksum": "b2f326271f07bdea9502dd28d5a51d30",
     "grade": true,
     "grade_id": "cell-0bec16c0ee66e652",
     "locked": true,
     "points": 6,
     "schema_version": 3,
     "solution": false,
     "task": false
    }
   },
   "outputs": [],
   "source": [
    "# tests are hidden here... \n",
    "\n",
    "\n"
   ]
  },
  {
   "cell_type": "markdown",
   "metadata": {
    "deletable": false,
    "editable": false,
    "nbgrader": {
     "cell_type": "markdown",
     "checksum": "bd4442c347c2c2a05a7596b0a25d0a68",
     "grade": false,
     "grade_id": "cell-6a92224b5654a525",
     "locked": true,
     "schema_version": 3,
     "solution": false,
     "task": false
    }
   },
   "source": [
    "## 4. Nomenclature \n",
    "\n",
    "For the following questions, these are multi-input multiple choice. There is a variable called ``answer = \"\"`` which is currently an empty string. Using the document string defined in ``` \"\"\"<answer options>\"\"\"``` please put the appropriate answers. For example, suppose that $S$ is a Non-Autonomous 2nd order system, then for `question_1()`, you would put `answer = \"BF\"`, the order of letters does not matter. Make sure they are capitalized letters. \n",
    "\n",
    "-------------------------------------------------------\n",
    "\n",
    "```\n",
    "def question_1():\n",
    "    \"\"\" \n",
    "    Select all that apply \n",
    "    \n",
    "    A) Autonomous\n",
    "    B) Non-Autonomous \n",
    "    C) Linear \n",
    "    D) Non-Linear\n",
    "    E) 1st Order\n",
    "    F) 2nd Order\n",
    "    \"\"\"\n",
    "    \n",
    "    answer = \"\"\n",
    "    \n",
    "    return(answer) \n",
    " ```\n",
    " -----\n",
    " \n",
    " So I would change ```answer``` to be ```answer = \"BF\"```."
   ]
  },
  {
   "cell_type": "markdown",
   "metadata": {
    "deletable": false,
    "editable": false,
    "nbgrader": {
     "cell_type": "markdown",
     "checksum": "1132c3a527c9615592c1e7de0febe914",
     "grade": false,
     "grade_id": "cell-d3bf4a59c7be6d04",
     "locked": true,
     "schema_version": 3,
     "solution": false,
     "task": false
    }
   },
   "source": [
    "### 4.0 Practice (0 points)\n",
    "\n",
    "The following discrete dynamical system $S$ is defined as follows: \n",
    "\n",
    "$S$ has no order, is non linear, and is a non-autonomous system. \n",
    "\n",
    "\n",
    "Please select all that apply in the `question_0()` function."
   ]
  },
  {
   "cell_type": "code",
   "execution_count": 17,
   "metadata": {
    "deletable": false,
    "nbgrader": {
     "cell_type": "code",
     "checksum": "a812ef31d10f5fa37d7b912397838c81",
     "grade": false,
     "grade_id": "cell-ef34e8a62d54a363",
     "locked": false,
     "schema_version": 3,
     "solution": true,
     "task": false
    }
   },
   "outputs": [],
   "source": [
    "def question_0():\n",
    "    \"\"\"\n",
    "    Select all that apply \n",
    "    A) Autonomous\n",
    "    B) Non-Autonomous \n",
    "    C) Continous\n",
    "    D) Non-Linear\n",
    "    E) 1st Order\n",
    "    F) No Order\n",
    "    \"\"\"\n",
    "    \n",
    "    answer = \"BDF\"\n",
    "    # YOUR CODE HERE\n",
    "    return(answer)\n"
   ]
  },
  {
   "cell_type": "code",
   "execution_count": 18,
   "metadata": {
    "deletable": false,
    "editable": false,
    "nbgrader": {
     "cell_type": "code",
     "checksum": "e92236dc72d015eea8b9bef21a825db4",
     "grade": true,
     "grade_id": "cell-6676e0753ed28540",
     "locked": true,
     "points": 0,
     "schema_version": 3,
     "solution": false,
     "task": false
    }
   },
   "outputs": [],
   "source": [
    "# you must have this cell run, in order to understand how to answer each of the following questions.\n",
    "assert question_0() == \"BDF\""
   ]
  },
  {
   "cell_type": "markdown",
   "metadata": {
    "deletable": false,
    "editable": false,
    "nbgrader": {
     "cell_type": "markdown",
     "checksum": "9ba175899e22394fac2f71f34c939128",
     "grade": false,
     "grade_id": "cell-f07db2ffe712e0f4",
     "locked": true,
     "schema_version": 3,
     "solution": false,
     "task": false
    }
   },
   "source": [
    "### 4.1 (1 point)\n",
    "\n",
    "The following discrete dynamical system $S$ is defined as follows: \n",
    "\n",
    "$$ S = \\{ t \\in \\mathbb{Z}, x^{(t)} = x^{(t-1)} + x^{(t-2)} \\} $$\n",
    "\n",
    "\n",
    "Please select all that apply in the `question_1()` function."
   ]
  },
  {
   "cell_type": "code",
   "execution_count": 19,
   "metadata": {
    "deletable": false,
    "nbgrader": {
     "cell_type": "code",
     "checksum": "bbd26836cd1132d61e6bafa8d58b51f6",
     "grade": false,
     "grade_id": "cell-dac36d38b0be4afa",
     "locked": false,
     "schema_version": 3,
     "solution": true,
     "task": false
    }
   },
   "outputs": [],
   "source": [
    "def question_1():\n",
    "    \"\"\"\n",
    "    Select all that apply \n",
    "    \n",
    "    A) Autonomous\n",
    "    B) Non-Autonomous \n",
    "    C) Linear \n",
    "    D) Non-Linear\n",
    "    E) 1st Order\n",
    "    F) 2nd Order\n",
    "    \"\"\"\n",
    "    \n",
    "    answer = \"ACF\"\n",
    "    # YOUR CODE HERE\n",
    "    \n",
    "    \n",
    "    return(answer) \n"
   ]
  },
  {
   "cell_type": "code",
   "execution_count": null,
   "metadata": {
    "deletable": false,
    "editable": false,
    "nbgrader": {
     "cell_type": "code",
     "checksum": "a7f21dca753f7a4c8b7f3e78cdb275a2",
     "grade": true,
     "grade_id": "cell-3bdd6fc2edc9e429",
     "locked": true,
     "points": 1,
     "schema_version": 3,
     "solution": false,
     "task": false
    }
   },
   "outputs": [],
   "source": [
    "# hidden tests beware... "
   ]
  },
  {
   "cell_type": "markdown",
   "metadata": {
    "deletable": false,
    "editable": false,
    "nbgrader": {
     "cell_type": "markdown",
     "checksum": "0d25a24e90076bcc5a4e5c61d09a92fc",
     "grade": false,
     "grade_id": "cell-0dbbcb35d3cf91d4",
     "locked": true,
     "schema_version": 3,
     "solution": false,
     "task": false
    }
   },
   "source": [
    "### 4.2 (1 point)\n",
    "\n",
    "The following discrete dynamical system $S$ is defined as follows: \n",
    "\n",
    "$$ S = \\{ t \\in \\mathbb{Z}, x^{(t)} = x^{(t-1)}x^{(t-2)} + \\sin(2\\pi t + \\frac{\\pi}{2})\\} $$\n",
    "\n",
    "\n",
    "Please select all that apply in the `question_2()` function.\n"
   ]
  },
  {
   "cell_type": "code",
   "execution_count": 20,
   "metadata": {
    "deletable": false,
    "nbgrader": {
     "cell_type": "code",
     "checksum": "ed55e1c89de419531d7abf508d9d39d0",
     "grade": false,
     "grade_id": "cell-1eeefe3c5fbdd7f0",
     "locked": false,
     "schema_version": 3,
     "solution": true,
     "task": false
    }
   },
   "outputs": [],
   "source": [
    "def question_2():\n",
    "    \"\"\"\n",
    "    Select all that apply \n",
    "    \n",
    "    A) Autonomous\n",
    "    B) Non-Autonomous \n",
    "    C) Linear \n",
    "    D) Non-Linear\n",
    "    E) 1st Order\n",
    "    F) 2nd Order\n",
    "    \"\"\"\n",
    "    \n",
    "    answer = \"BDF\"\n",
    "    # YOUR CODE HERE\n",
    "    \n",
    "    \n",
    "    return(answer) \n"
   ]
  },
  {
   "cell_type": "code",
   "execution_count": null,
   "metadata": {
    "deletable": false,
    "editable": false,
    "nbgrader": {
     "cell_type": "code",
     "checksum": "84ed729557189967a251d47b955c1ad5",
     "grade": true,
     "grade_id": "cell-23976b1932e01bb7",
     "locked": true,
     "points": 1,
     "schema_version": 3,
     "solution": false,
     "task": false
    }
   },
   "outputs": [],
   "source": [
    "# hidden tests beware... "
   ]
  },
  {
   "cell_type": "markdown",
   "metadata": {
    "deletable": false,
    "editable": false,
    "nbgrader": {
     "cell_type": "markdown",
     "checksum": "090892521c826de55335592a3ec67d3a",
     "grade": false,
     "grade_id": "cell-1c65ceb8f63dd409",
     "locked": true,
     "schema_version": 3,
     "solution": false,
     "task": false
    }
   },
   "source": [
    "### 4.3 (1 point)\n",
    "\n",
    "The following discrete dynamical system $S$ is defined as follows: \n",
    "\n",
    "$$ S = \\{ t \\in \\mathbb{Z}, x^{(t)} = 5x^{(t-1)} + 2 \\} $$\n",
    "\n",
    "\n",
    "Please select all that apply in the `question_3()` function.\n"
   ]
  },
  {
   "cell_type": "code",
   "execution_count": null,
   "metadata": {
    "deletable": false,
    "nbgrader": {
     "cell_type": "code",
     "checksum": "e4781ccf7b7bf459713508df7b3b7dc7",
     "grade": false,
     "grade_id": "cell-8d3995117d74b25e",
     "locked": false,
     "schema_version": 3,
     "solution": true,
     "task": false
    }
   },
   "outputs": [],
   "source": [
    "def question_3():\n",
    "    \"\"\"\n",
    "    Select all that apply \n",
    "    \n",
    "    A) Autonomous\n",
    "    B) Non-Autonomous \n",
    "    C) Linear \n",
    "    D) Non-Linear\n",
    "    E) 1st Order\n",
    "    F) 2nd Order\n",
    "    \"\"\"\n",
    "    \n",
    "    answer = \"ACE\"\n",
    "    # YOUR CODE HERE\n",
    "   \n",
    "    \n",
    "    return(answer) \n"
   ]
  },
  {
   "cell_type": "markdown",
   "metadata": {
    "deletable": false,
    "editable": false,
    "nbgrader": {
     "cell_type": "markdown",
     "checksum": "2705a1df9cd7870ef23eaa7dac104138",
     "grade": false,
     "grade_id": "cell-3992afbf5d253985",
     "locked": true,
     "schema_version": 3,
     "solution": false,
     "task": false
    }
   },
   "source": [
    "### 4.4 (1 point)\n",
    "\n",
    "The following discrete dynamical system $S$ is defined as follows: \n",
    "\n",
    "$$ S = \\{ t \\in \\mathbb{Z}, x^{(t)} = 5tx^{(t-2)} + \\cos(2\\pi t)\\} $$\n",
    "\n",
    "\n",
    "Please select all that apply in the `question_4()` function.\n"
   ]
  },
  {
   "cell_type": "code",
   "execution_count": 21,
   "metadata": {
    "deletable": false,
    "nbgrader": {
     "cell_type": "code",
     "checksum": "4e0c64d6a811a3ebe0827be1b0899383",
     "grade": false,
     "grade_id": "cell-9e21c9914afa134b",
     "locked": false,
     "schema_version": 3,
     "solution": true,
     "task": false
    }
   },
   "outputs": [],
   "source": [
    "def question_4():\n",
    "    \"\"\"\n",
    "    Select all that apply \n",
    "    \n",
    "    A) Autonomous\n",
    "    B) Non-Autonomous \n",
    "    C) Linear \n",
    "    D) Non-Linear\n",
    "    E) 1st Order\n",
    "    F) 2nd Order\n",
    "    \"\"\"\n",
    "    \n",
    "    answer = \"BDF\"\n",
    "    # YOUR CODE HERE\n",
    "    \n",
    "    \n",
    "    return(answer) \n"
   ]
  },
  {
   "cell_type": "code",
   "execution_count": null,
   "metadata": {
    "deletable": false,
    "editable": false,
    "nbgrader": {
     "cell_type": "code",
     "checksum": "c2d75973ef9b78cb7a26d7a21c9bcdad",
     "grade": true,
     "grade_id": "cell-c2a554829bb9bd7e",
     "locked": true,
     "points": 1,
     "schema_version": 3,
     "solution": false,
     "task": false
    }
   },
   "outputs": [],
   "source": []
  },
  {
   "cell_type": "markdown",
   "metadata": {
    "deletable": false,
    "editable": false,
    "nbgrader": {
     "cell_type": "markdown",
     "checksum": "8ad7ff63c603afd0f3da01a442ab96ff",
     "grade": false,
     "grade_id": "cell-e90aecb5957931c8",
     "locked": true,
     "schema_version": 3,
     "solution": false,
     "task": false
    }
   },
   "source": [
    "### First Order Discrete Dynamical Systems \n",
    "\n",
    "The following class `FirstOrder_DDS` encompases all of first order discrete dynamical system problems. The following questions will require you to program a function for each problem, and then pass them into the class along with an initial condition `ic`. These problems are similar to the topics we covered in class.\n"
   ]
  },
  {
   "cell_type": "code",
   "execution_count": 22,
   "metadata": {
    "deletable": false,
    "editable": false,
    "nbgrader": {
     "cell_type": "code",
     "checksum": "4f70c38e46528831d6aaf46183a59e90",
     "grade": false,
     "grade_id": "cell-dd0da3277812c1d5",
     "locked": true,
     "schema_version": 3,
     "solution": false,
     "task": false
    }
   },
   "outputs": [],
   "source": [
    "class FirstOrder_DDS:\n",
    "    \"\"\" Do not change these methods.\"\"\"\n",
    "    \n",
    "    def __init__(self,f,ic):\n",
    "        self.f = f\n",
    "        self.history = np.zeros(200)\n",
    "        self.history[0] = ic\n",
    "        self.ic = ic \n",
    "        self.step = 0\n",
    "        self.current = ic \n",
    "\n",
    "\n",
    "    def step_forward(self):\n",
    "        \n",
    "        if self.step == len(self.history) - 1:\n",
    "            self.history = np.append(self.history,np.zeros(200))\n",
    "            \n",
    "        old = self.history[self.step]\n",
    "        new = self.f(old)\n",
    "        self.step += 1\n",
    "        self.history[self.step] = new\n",
    "        self.current = new\n",
    "        \n",
    "        \n",
    "\n",
    "    def plot(self,xlab = \"Time\",ylab = \"Output\"):\n",
    "        time_steps = range(0,self.step)\n",
    "        output = self.history[ :self.step ]\n",
    "        pyplot.plot(time_steps,output)\n",
    "        pyplot.xlabel(xlab)\n",
    "        pyplot.ylabel(ylab)\n"
   ]
  },
  {
   "cell_type": "markdown",
   "metadata": {
    "deletable": false,
    "editable": false,
    "nbgrader": {
     "cell_type": "markdown",
     "checksum": "ad6c50544e3a7cf7e46fbdb1861b049a",
     "grade": false,
     "grade_id": "cell-76a5996ee2c07fa3",
     "locked": true,
     "schema_version": 3,
     "solution": false,
     "task": false
    }
   },
   "source": [
    "### 5 Chloe's Cattery\n",
    "\n",
    "Chloe owns a cattery, she currently owns two cats Bella and Nova who are considered to be the first breeding cats. In addition, she also owns a breeder named Milo who will mate with each cat. \n",
    "\n",
    "Every year, Chloe allows one litter for each breeding cat, who for the purposes of this problem, have exactly 5 kittens per litter. After each year, she sells both of the breeding cats, and retains the kittens. She also sells off the breeder.\n",
    " \n",
    "For the next year, she selects two kittens to act as female breeders and buys a new male breeder. \n",
    "\n",
    "Let $c^{(t)}$ denote the number of cats at year $t$. \n",
    "\n"
   ]
  },
  {
   "cell_type": "markdown",
   "metadata": {
    "deletable": false,
    "editable": false,
    "nbgrader": {
     "cell_type": "markdown",
     "checksum": "2c0f7e4adf318473b81084fe52272d6b",
     "grade": false,
     "grade_id": "cell-e5728e948bbf6e29",
     "locked": true,
     "schema_version": 3,
     "solution": false,
     "task": false
    }
   },
   "source": [
    "### Chloe's Cattery 5.1 (1 point)\n",
    "\n",
    "\n",
    "Which of the following difference equations will model the number of cats in Chloe's cattery.  \n",
    "$$$$\n",
    "\n",
    "$A:\\quad c^{(t)} =  2c^{(t-1)} + 1 $\n",
    "\n",
    "$B:\\quad c^{(t)} =  c^{(t-1)} + 8 $\n",
    "\n",
    "$C:\\quad c^{(t)} =  c^{(t-1)} - 3 $\n",
    "\n",
    "$D:\\quad c^{(t)} =  2c^{(t-1)} - 2 $\n",
    "\n",
    "\n",
    "Please select an answer in question `question_51` by writing in the string `answer = \"\"`. For example if you think the answer is `E` then write `answer = \"E\"`. Hint... the answer is not E."
   ]
  },
  {
   "cell_type": "code",
   "execution_count": 23,
   "metadata": {
    "deletable": false,
    "nbgrader": {
     "cell_type": "code",
     "checksum": "6ea80178831fc060ebb0864338b9b137",
     "grade": false,
     "grade_id": "cell-d778830f21e979ee",
     "locked": false,
     "schema_version": 3,
     "solution": true,
     "task": false
    }
   },
   "outputs": [],
   "source": [
    "def question_51():\n",
    "    \"\"\"Change answer based on the question above. \"\"\"\n",
    "    \n",
    "    answer = \"B\"\n",
    "    # YOUR CODE HERE\n",
    "    \n",
    "    return(answer)"
   ]
  },
  {
   "cell_type": "code",
   "execution_count": null,
   "metadata": {
    "deletable": false,
    "editable": false,
    "nbgrader": {
     "cell_type": "code",
     "checksum": "77e4e81ce3f9a7ef84a1594501832d7d",
     "grade": true,
     "grade_id": "cell-6954bba5b967c9bb",
     "locked": true,
     "points": 1,
     "schema_version": 3,
     "solution": false,
     "task": false
    }
   },
   "outputs": [],
   "source": [
    "# hidden tests beware..."
   ]
  },
  {
   "cell_type": "markdown",
   "metadata": {
    "deletable": false,
    "editable": false,
    "nbgrader": {
     "cell_type": "markdown",
     "checksum": "61e99a93d38068b4eab357e462181120",
     "grade": false,
     "grade_id": "cell-9fe1008ce5296027",
     "locked": true,
     "schema_version": 3,
     "solution": false,
     "task": false
    }
   },
   "source": [
    "### Chloe's Cattery 5.2 (1 point)\n",
    "Using the selected equation in 5.1, code up the function `breed_cats(c)` which takes in an argument `c` for the number of cats and returns the new population of cats."
   ]
  },
  {
   "cell_type": "code",
   "execution_count": 24,
   "metadata": {
    "deletable": false,
    "nbgrader": {
     "cell_type": "code",
     "checksum": "5bf47c87f60d95884591b5d6feff77eb",
     "grade": false,
     "grade_id": "cell-0ffc23ebef185e0e",
     "locked": false,
     "schema_version": 3,
     "solution": true,
     "task": false
    }
   },
   "outputs": [],
   "source": [
    "def breed_cats(c):\n",
    "    \"\"\"\n",
    "    Breeds two cats, and have litter.\n",
    "    \"\"\"\n",
    "    new_value = 0\n",
    "    # YOUR CODE HERE\n",
    "    new_value = c+8\n",
    "    return(new_value)"
   ]
  },
  {
   "cell_type": "code",
   "execution_count": null,
   "metadata": {
    "deletable": false,
    "editable": false,
    "nbgrader": {
     "cell_type": "code",
     "checksum": "d41c39fe767ff56230b78413d698f31a",
     "grade": true,
     "grade_id": "cell-87b4bfe95243a44c",
     "locked": true,
     "points": 1,
     "schema_version": 3,
     "solution": false,
     "task": false
    }
   },
   "outputs": [],
   "source": [
    "# hidden tests beware..."
   ]
  },
  {
   "cell_type": "markdown",
   "metadata": {
    "deletable": false,
    "editable": false,
    "nbgrader": {
     "cell_type": "markdown",
     "checksum": "080931b6940d53f7ad1668c35a80319c",
     "grade": false,
     "grade_id": "cell-660fc0bbba26ee80",
     "locked": true,
     "schema_version": 3,
     "solution": false,
     "task": false
    }
   },
   "source": [
    "### Chloe's Cattery 5.3 (1 point)\n",
    "\n",
    "Given an intial population of 3 cats. How years will it take for chloe to have 27 cats or greater? Use the `FirstOrder_DDS` class along with the appropriate methods to answer `question_53`. `answer` is an integer number, and is currently set to 0. Remember, the current year counts as 0.\n",
    "\n",
    "I suggest you do your rough work in another notebook by copying the class definition over there `FirstOrder_DDS` and the function `breed_cats`. \n",
    "\n",
    "Remember, I am looking for a single integer number for the `answer`."
   ]
  },
  {
   "cell_type": "code",
   "execution_count": 25,
   "metadata": {
    "deletable": false,
    "nbgrader": {
     "cell_type": "code",
     "checksum": "872533ffd353a123c8d80e5745d5e0fc",
     "grade": false,
     "grade_id": "cell-c728e22c0e481839",
     "locked": false,
     "schema_version": 3,
     "solution": true,
     "task": false
    }
   },
   "outputs": [],
   "source": [
    "def question_53():\n",
    "    \"\"\"\n",
    "    How many years will it take to have 27 cats or greater?\n",
    "    \"\"\"\n",
    "    answer = 0\n",
    "    # YOUR CODE HERE\n",
    "    year_need=FirstOrder_DDS(breed_cats,3)\n",
    "    for i in range(1,100):\n",
    "        year_need.step_forward()\n",
    "        if year_need.current < 27:\n",
    "            answer = year_need.step+1\n",
    "    \n",
    "    return(answer)\n",
    "    "
   ]
  },
  {
   "cell_type": "code",
   "execution_count": null,
   "metadata": {
    "deletable": false,
    "editable": false,
    "nbgrader": {
     "cell_type": "code",
     "checksum": "9f11829de0a757a4bdbe2183af8e3414",
     "grade": true,
     "grade_id": "cell-00bb45b5adf507c7",
     "locked": true,
     "points": 1,
     "schema_version": 3,
     "solution": false,
     "task": false
    }
   },
   "outputs": [],
   "source": [
    "# hidden tests beware"
   ]
  },
  {
   "cell_type": "markdown",
   "metadata": {
    "deletable": false,
    "editable": false,
    "nbgrader": {
     "cell_type": "markdown",
     "checksum": "93e29739775e001ce1503557eb3fb05d",
     "grade": false,
     "grade_id": "cell-b5dd2a783ff76e45",
     "locked": true,
     "schema_version": 3,
     "solution": false,
     "task": false
    }
   },
   "source": [
    "### Chloe's Cattery 5.4 (2 point)\n",
    " \n",
    "Given an initial population of 8 cats. Suppose Chloe runs her breeding business indefinity, and wants to know how much money she need to spend on cat food. Use the `FirstOrder_DDS` class along with the appropriate methods to create a function called `cat_tracker` to keep track of how many cats she will have by year.\n",
    "\n",
    "The `cat_tracker` function should take a `year` and return the number of cats she will have by year. The function returns `answer` as a `list` type.\n",
    "\n",
    "Hint.. you should use the `history` value in the class..."
   ]
  },
  {
   "cell_type": "code",
   "execution_count": 26,
   "metadata": {
    "deletable": false,
    "nbgrader": {
     "cell_type": "code",
     "checksum": "f6665c67a75faeaf695c9f0f2320be69",
     "grade": false,
     "grade_id": "cell-eda66ba4ebc12524",
     "locked": false,
     "schema_version": 3,
     "solution": true,
     "task": false
    }
   },
   "outputs": [],
   "source": [
    "def cat_tracker(year):\n",
    "    \"\"\"\n",
    "    Collects the number of cats by year. \n",
    "    \"\"\"\n",
    "    \n",
    "    answer = 0\n",
    "    # YOUR CODE HERE\n",
    "    tracker=FirstOrder_DDS(breed_cats,8)\n",
    "    for i in range (1,year+1):\n",
    "        tracker.step_forward()\n",
    "        if tracker.history[i] != 0:\n",
    "            y = tracker.history[i]\n",
    "            answer.append(y)\n",
    "    return(answer)\n"
   ]
  },
  {
   "cell_type": "code",
   "execution_count": null,
   "metadata": {
    "deletable": false,
    "editable": false,
    "nbgrader": {
     "cell_type": "code",
     "checksum": "4aa9ced9e1d47a054331fa9827f86401",
     "grade": true,
     "grade_id": "cell-e25559b63df602c2",
     "locked": true,
     "points": 2,
     "schema_version": 3,
     "solution": false,
     "task": false
    }
   },
   "outputs": [],
   "source": [
    "# hidden tests beware"
   ]
  },
  {
   "cell_type": "markdown",
   "metadata": {
    "deletable": false,
    "editable": false,
    "nbgrader": {
     "cell_type": "markdown",
     "checksum": "7c954f6e5626116a0f3c88b38c6a3462",
     "grade": false,
     "grade_id": "cell-72263ecc0bafb486",
     "locked": true,
     "schema_version": 3,
     "solution": false,
     "task": false
    }
   },
   "source": [
    "### 6 Jason's RRSP\n",
    "Jason works as a Data Scientist lead. He makes a whooping of 200k a year, from which 40% of it gets snatched by the CRA. The rest of it he spends on rent (30k a year) and other living expenses (50k a year). Jason saves the reminder in his RRSP account which grows at 5% a year.\n",
    "\n",
    "Let r(𝑡) denote the value of his RRSP account at time t."
   ]
  },
  {
   "cell_type": "markdown",
   "metadata": {
    "deletable": false,
    "editable": false,
    "nbgrader": {
     "cell_type": "markdown",
     "checksum": "46e2812bfc226cbd9cdd9d82583e0585",
     "grade": false,
     "grade_id": "cell-83f692ae5ff70e18",
     "locked": true,
     "schema_version": 3,
     "solution": false,
     "task": false
    }
   },
   "source": [
    "### Jason's RRSP 6.1 (1 point)\n",
    "\n",
    "\n",
    "Which of the following difference equations will model the value of Jason's RRSP account (in thousands).  \n",
    "$$$$\n",
    "\n",
    "$A:\\quad r^{(t)} =  r^{(t-1)} + 40 $\n",
    "\n",
    "$B:\\quad r^{(t)} =  1.05r^{(t-1)} + 120 $\n",
    "\n",
    "$C:\\quad r^{(t)} =  1.05r^{(t-1)} + 40 $\n",
    "\n",
    "$D:\\quad r^{(t)} =  r^{(t-1)} + 120 $\n",
    "\n",
    "\n",
    "Please select an answer in question `question_61` by writing in the string `answer = \"\"`. For example if you think the answer is `E` then write `answer = \"E\"`. Hint... the answer is not E."
   ]
  },
  {
   "cell_type": "code",
   "execution_count": null,
   "metadata": {
    "deletable": false,
    "nbgrader": {
     "cell_type": "code",
     "checksum": "6ab257ce57b3808ed77b280617fe682c",
     "grade": false,
     "grade_id": "cell-dd8a4f41a9d139e4",
     "locked": false,
     "schema_version": 3,
     "solution": true,
     "task": false
    }
   },
   "outputs": [],
   "source": [
    "def question_61():\n",
    "    \"\"\"Change answer based on the question above. \"\"\"\n",
    "    \n",
    "    answer = \"C\"\n",
    "    # YOUR CODE HERE\n",
    "   \n",
    "    return(answer)"
   ]
  },
  {
   "cell_type": "code",
   "execution_count": null,
   "metadata": {
    "deletable": false,
    "editable": false,
    "nbgrader": {
     "cell_type": "code",
     "checksum": "62f27e8a01a528e185b29926da04007d",
     "grade": true,
     "grade_id": "cell-fc40b54dd9cb13dc",
     "locked": true,
     "points": 1,
     "schema_version": 3,
     "solution": false,
     "task": false
    }
   },
   "outputs": [],
   "source": [
    "# hidden tests beware..."
   ]
  },
  {
   "cell_type": "markdown",
   "metadata": {
    "deletable": false,
    "editable": false,
    "nbgrader": {
     "cell_type": "markdown",
     "checksum": "04d110be05f1bfd4817132dce2036442",
     "grade": false,
     "grade_id": "cell-c3e05db6d1fa7bdf",
     "locked": true,
     "schema_version": 3,
     "solution": false,
     "task": false
    }
   },
   "source": [
    "### Jason's RRSP 6.2 (1 point)\n",
    "Use your equation choice from 6.1, and create a `rrsp_value(v)` function which takes in an argument v for current value and returns the new RRSP account value for next year."
   ]
  },
  {
   "cell_type": "code",
   "execution_count": null,
   "metadata": {
    "deletable": false,
    "nbgrader": {
     "cell_type": "code",
     "checksum": "57c209f7661096dc046e06aacbd65fc8",
     "grade": false,
     "grade_id": "cell-0ae6d9b3a1d939e2",
     "locked": false,
     "schema_version": 3,
     "solution": true,
     "task": false
    }
   },
   "outputs": [],
   "source": [
    "def rrsp_value(v):\n",
    "    \"\"\"\n",
    "    get jasons rrsp\n",
    "    \"\"\"\n",
    "    new_value = 0\n",
    "    # YOUR CODE HERE\n",
    "    new_value=v*1.05+40\n",
    "    return(new_value)"
   ]
  },
  {
   "cell_type": "code",
   "execution_count": null,
   "metadata": {
    "deletable": false,
    "editable": false,
    "nbgrader": {
     "cell_type": "code",
     "checksum": "51f7e48aea7b81bf40be5583c93c625a",
     "grade": true,
     "grade_id": "cell-8a10e417e72e90b2",
     "locked": true,
     "points": 1,
     "schema_version": 3,
     "solution": false,
     "task": false
    }
   },
   "outputs": [],
   "source": [
    "# hidden tests beware..."
   ]
  },
  {
   "cell_type": "markdown",
   "metadata": {
    "deletable": false,
    "editable": false,
    "nbgrader": {
     "cell_type": "markdown",
     "checksum": "90a4de850ac3d10e6330c1134fe30881",
     "grade": false,
     "grade_id": "cell-900c56f54d21cecc",
     "locked": true,
     "schema_version": 3,
     "solution": false,
     "task": false
    }
   },
   "source": [
    "### Jason's RRSP 6.3 (2 point)\n",
    "\n",
    "Jason has 400k saved up and he wants to buy a house. As a first time home buyer he can use the money from his RRSP. How many years will it take him to have enough for a 1 millon dollar home?\n",
    "\n",
    "Remember, I am looking for a single integer number for the `answer`."
   ]
  },
  {
   "cell_type": "code",
   "execution_count": 27,
   "metadata": {
    "deletable": false,
    "nbgrader": {
     "cell_type": "code",
     "checksum": "7ee4b69556c2e6925669645d6fb66c34",
     "grade": false,
     "grade_id": "cell-8105f0932f3f47cd",
     "locked": false,
     "schema_version": 3,
     "solution": true,
     "task": false
    }
   },
   "outputs": [],
   "source": [
    "def question_63():\n",
    "    \"\"\"\n",
    "    How many years will it take to have 1000k or great?\n",
    "    \"\"\"\n",
    "    answer = 0\n",
    "    # YOUR CODE HERE\n",
    "    ic=400\n",
    "    years=FirstOrder_DDS(rrsp_value,ic)\n",
    "    for i in range(0,100):\n",
    "        years.step_forward()\n",
    "        if years.current <1000:\n",
    "            answer=years.step+1\n",
    "    return(answer)"
   ]
  },
  {
   "cell_type": "code",
   "execution_count": null,
   "metadata": {
    "deletable": false,
    "editable": false,
    "nbgrader": {
     "cell_type": "code",
     "checksum": "a0ca43540607fec154524c810e85d7e7",
     "grade": true,
     "grade_id": "cell-f4e49a2763581151",
     "locked": true,
     "points": 2,
     "schema_version": 3,
     "solution": false,
     "task": false
    }
   },
   "outputs": [],
   "source": [
    "# hidden tests beware..."
   ]
  },
  {
   "cell_type": "markdown",
   "metadata": {
    "deletable": false,
    "editable": false,
    "nbgrader": {
     "cell_type": "markdown",
     "checksum": "7fadfeea9a6345be6a2cdde17323eca3",
     "grade": false,
     "grade_id": "cell-f456d09798538a4b",
     "locked": true,
     "schema_version": 3,
     "solution": false,
     "task": false
    }
   },
   "source": [
    "### Jason's RRSP 6.4 (2 point)\n",
    "You work as a financial advisor at the bank. Jason wants you to give a value projection of his RRSP account (Currently, he has 100k in the account). Use the FirstOrder_DDS class along with the appropriate methods to create a function called `value_projection` to keep track of how Jason's account balance over the years.\n",
    "\n",
    "The `value_projection` function should take a year and return all of the account value projections up to that year. The function must returns `answer` as a List.\n",
    "\n",
    "(hint this is like the jasons history over time, except you are returning a list instead of np.array)"
   ]
  },
  {
   "cell_type": "code",
   "execution_count": 29,
   "metadata": {
    "deletable": false,
    "nbgrader": {
     "cell_type": "code",
     "checksum": "3d9aadc4c77cc9a4dc82e6a893c165c4",
     "grade": false,
     "grade_id": "cell-f7696d5e79a50c78",
     "locked": false,
     "schema_version": 3,
     "solution": true,
     "task": false
    }
   },
   "outputs": [],
   "source": [
    "def value_projection(year):\n",
    "    \"\"\"\n",
    "    Collects the account value by year. \n",
    "    \"\"\"\n",
    "    \n",
    "    answer = 0\n",
    "    # YOUR CODE HERE\n",
    "    value=FirstOrder_DDS(rrsp_value,100)\n",
    "    for i in range (1,year+1):\n",
    "        value.step_forward()\n",
    "        if value.history[i] != 0:\n",
    "            answer.append(value.history[i])\n",
    "    return(answer)"
   ]
  },
  {
   "cell_type": "code",
   "execution_count": null,
   "metadata": {
    "deletable": false,
    "editable": false,
    "nbgrader": {
     "cell_type": "code",
     "checksum": "da70dc02df6f6bf27f27fd684ede2681",
     "grade": true,
     "grade_id": "cell-8fd0c4f5ee1dc3c8",
     "locked": true,
     "points": 2,
     "schema_version": 3,
     "solution": false,
     "task": false
    }
   },
   "outputs": [],
   "source": [
    "# hidden tests beware"
   ]
  },
  {
   "cell_type": "markdown",
   "metadata": {
    "deletable": false,
    "editable": false,
    "nbgrader": {
     "cell_type": "markdown",
     "checksum": "504a98bc569c645001e01a52c4c9cb57",
     "grade": false,
     "grade_id": "cell-cefcdb139d90fc71",
     "locked": true,
     "schema_version": 3,
     "solution": false,
     "task": false
    }
   },
   "source": [
    "## Multi-State Dynamical Systems (Includes Higher Order)\n",
    "\n",
    "For the following questions, you can use the `MultiDDS` class definition in the next cell to answer the questions. \n",
    "\n",
    "\n"
   ]
  },
  {
   "cell_type": "code",
   "execution_count": 30,
   "metadata": {
    "deletable": false,
    "editable": false,
    "nbgrader": {
     "cell_type": "code",
     "checksum": "64846a81fa145d94188f68cadcc45212",
     "grade": false,
     "grade_id": "cell-8c29aebd377f7fb1",
     "locked": true,
     "schema_version": 3,
     "solution": false,
     "task": false
    }
   },
   "outputs": [],
   "source": [
    "class MultiDDS:\n",
    "\n",
    "    def __init__(self,f,ic):\n",
    "        # ic corresponds to the total number of states, but first check to make sure its a matrix. \n",
    "        if type(ic) != np.matrix:\n",
    "            raise Exception(\"initial conditions not of np.matrix type\")\n",
    "\n",
    "        if ic.shape[0] == 1:\n",
    "            raise Exception(\"inital conditions need to have vertical matrix vectors\")\n",
    "\n",
    "\n",
    "        p = ic.shape[0]\n",
    "        # set inital conditions\n",
    "        self.ic = ic \n",
    "        self.p = p \n",
    "\n",
    "        # set history and other variables\n",
    "        self.history = np.matrix(np.zeros((p,int(1e4))))\n",
    "        self.history[:,0] = ic \n",
    "        self.f = f \n",
    "        self.step = 0\n",
    "        self.current = ic\n",
    "\n",
    "\n",
    "    def step_forward(self):\n",
    "        new = self.f(self.history[:,self.step])\n",
    "        self.step += 1 \n",
    "        self.history[:,self.step] = new \n",
    "        self.current = new \n",
    "\n",
    "\n",
    "    def plot(self,position = 0,xlab = \"Input\",ylab = \"Output\"):\n",
    "        steps = range(0,self.step)\n",
    "        pyplot.plot(steps, self.history[position,:self.step].transpose())\n",
    "        pyplot.xlabel(xlab)\n",
    "        pyplot.ylabel(ylab)\n"
   ]
  },
  {
   "cell_type": "markdown",
   "metadata": {
    "deletable": false,
    "editable": false,
    "nbgrader": {
     "cell_type": "markdown",
     "checksum": "7208985129e8f866323db087afbf7a61",
     "grade": false,
     "grade_id": "cell-54005a552c37c71a",
     "locked": true,
     "schema_version": 3,
     "solution": false,
     "task": false
    }
   },
   "source": [
    "### 7.1 Wolf/Rabbit Populations (2 points)\n",
    "\n",
    "The wolf and rabbit populations measured in thousands ($w$ and $r$) are modelled for year `t` with the following equations: \n",
    "\n",
    "$$w^{(t)} = -0.03w^{(t-1)} + 0.06r^{(t-1)}$$\n",
    "$$ r^{(t)} = -0.06w^{(t-1)} + 1.03r^{(t-1)} $$\n",
    "\n",
    "\n",
    "Write the function `animal_bogaloo` that takes in a vector `x` of shape `(p,1)` increments the states one year forward according to the difference equations above, and returns the new state vector. Must return a `(p,1)` matrix.  Remember, `p` is the dimension of your state vector `x`. "
   ]
  },
  {
   "cell_type": "code",
   "execution_count": 38,
   "metadata": {
    "deletable": false,
    "nbgrader": {
     "cell_type": "code",
     "checksum": "a619be6d108e99a4972ce1ce5c7ba3e8",
     "grade": false,
     "grade_id": "cell-095646072fa9fdf2",
     "locked": false,
     "schema_version": 3,
     "solution": true,
     "task": false
    }
   },
   "outputs": [],
   "source": [
    "def animal_bogaloo(x):\n",
    "    \"\"\"Wolf eat rabbit, rabbit eat grass\"\"\"\n",
    "    \n",
    "    # YOUR CODE HERE\n",
    "    A=np.matrix([[-0.03,0.06],[-0.06,1.03]])\n",
    "    return (A*(x.reshape(2,1)))"
   ]
  },
  {
   "cell_type": "code",
   "execution_count": null,
   "metadata": {
    "deletable": false,
    "editable": false,
    "nbgrader": {
     "cell_type": "code",
     "checksum": "a71dd14021f312f4bc20c5f4ef92fdcf",
     "grade": true,
     "grade_id": "cell-549c16983022432a",
     "locked": true,
     "points": 2,
     "schema_version": 3,
     "solution": false,
     "task": false
    }
   },
   "outputs": [],
   "source": [
    "# hidden tests beware"
   ]
  },
  {
   "cell_type": "markdown",
   "metadata": {
    "deletable": false,
    "editable": false,
    "nbgrader": {
     "cell_type": "markdown",
     "checksum": "34f1dae2e9f48609d2dae0cd14e5d085",
     "grade": false,
     "grade_id": "cell-a56a4d423c85e228",
     "locked": true,
     "schema_version": 3,
     "solution": false,
     "task": false
    }
   },
   "source": [
    "### 7.2 Modelling Bugs Bunny (2 points)\n",
    "Given the intial conditions: 10004 wolves, and 20005 rabbits what is the population of rabbits after 7 years? You can create a new notebook for rough work and use the predefined class above. I am looking for a single floating point number in the `answer` variable. `answer` is currently set to 0. Round to the nearest 3 decimal places AFTER the final calculations. "
   ]
  },
  {
   "cell_type": "code",
   "execution_count": 33,
   "metadata": {
    "deletable": false,
    "nbgrader": {
     "cell_type": "code",
     "checksum": "1a7f6660251f0bbd54198684a90e2203",
     "grade": false,
     "grade_id": "cell-d826eebb7bfff39e",
     "locked": false,
     "schema_version": 3,
     "solution": true,
     "task": false
    }
   },
   "outputs": [],
   "source": [
    "def question_animal_1():\n",
    "    \"\"\"\n",
    "    What is the population of rabbits after 7 years using the predefined initial conditions. \n",
    "    \"\"\"\n",
    "    \n",
    "    answer = 0\n",
    "    # YOUR CODE HERE\n",
    "    ic=np.matrix([10.004,20.005]).reshape(2,1)\n",
    "    pop_of_rabbits=MultiDDS(animal_bogaloo,ic)\n",
    "    actual_value=0\n",
    "    for i in range(0,100):\n",
    "        pop_of_rabbits.step_forward()\n",
    "        if i == 6:\n",
    "            actual_value=pop_of_rabbits.current\n",
    "            answer=np.round(actual_value[1,0],3)\n",
    "    return(answer)\n",
    "    "
   ]
  },
  {
   "cell_type": "code",
   "execution_count": null,
   "metadata": {
    "deletable": false,
    "editable": false,
    "nbgrader": {
     "cell_type": "code",
     "checksum": "07736efd35b735a721bc7d767970353d",
     "grade": true,
     "grade_id": "cell-bab3a8a40101485d",
     "locked": true,
     "points": 2,
     "schema_version": 3,
     "solution": false,
     "task": false
    }
   },
   "outputs": [],
   "source": [
    "# hidden tests beware..."
   ]
  },
  {
   "cell_type": "markdown",
   "metadata": {
    "deletable": false,
    "editable": false,
    "nbgrader": {
     "cell_type": "markdown",
     "checksum": "328de7fbda1949c560424406be7d9af1",
     "grade": false,
     "grade_id": "cell-b273807971cb167d",
     "locked": true,
     "schema_version": 3,
     "solution": false,
     "task": false
    }
   },
   "source": [
    "### 7.3 Wolf Adjustments  ( 2 points)\n",
    "\n",
    "The wolf and rabbit populations in thousands ($w$ and $r$) are modelled for year `t`.  Unfortuntely, the rabbit populations have become out of control. As a reduction measure, the Parks department of Pawnee has decided to transfer 25 new wolves into the wolf population each year. Using the previously defined equations, modify the wolf difference equation accordingly. \n",
    "\n",
    "Once that has been completed, write the function `animal_bogaloo_2` that takes in a vector `x` of shape `(p,1)` increments the states one year forward according to the difference equations above, and returns the new state vector. Must return a `(p,1)` matrix. Note that `p` may differ from the previous question. "
   ]
  },
  {
   "cell_type": "code",
   "execution_count": 34,
   "metadata": {
    "deletable": false,
    "nbgrader": {
     "cell_type": "code",
     "checksum": "48dcbba93d08e1e63e2f430052751472",
     "grade": false,
     "grade_id": "cell-d7cb373c7ce92ac1",
     "locked": false,
     "schema_version": 3,
     "solution": true,
     "task": false
    }
   },
   "outputs": [],
   "source": [
    "def animal_bogaloo_2(x):\n",
    "    \"\"\"Wolf eat rabbit, rabbit eat grass, too many rabbits, introduce wolves\"\"\"\n",
    "    \n",
    "    # YOUR CODE HERE\n",
    "    A_new=np.matrix([[-0.03,0.06],[-0.06,1.03]])\n",
    "    b=np.matrix([25,0]).reshape(2,1)\n",
    "    return (A_new*x+b)"
   ]
  },
  {
   "cell_type": "code",
   "execution_count": null,
   "metadata": {
    "deletable": false,
    "editable": false,
    "nbgrader": {
     "cell_type": "code",
     "checksum": "5d0ddb00e52f5a21a27dbc3478645255",
     "grade": true,
     "grade_id": "cell-4611727b9150a5a5",
     "locked": true,
     "points": 2,
     "schema_version": 3,
     "solution": false,
     "task": false
    }
   },
   "outputs": [],
   "source": [
    "# beware of hidden tests "
   ]
  },
  {
   "cell_type": "markdown",
   "metadata": {
    "deletable": false,
    "editable": false,
    "nbgrader": {
     "cell_type": "markdown",
     "checksum": "5442d2e076c08c82ef5850c9104aa949",
     "grade": false,
     "grade_id": "cell-3b59149418a9390a",
     "locked": true,
     "schema_version": 3,
     "solution": false,
     "task": false
    }
   },
   "source": [
    "### 8 Global Economy and Geopolitics\n",
    "\n",
    "The world GDP is measure in trillons. Consider a discrete dynamics model of the top 5 countries in the world by GDP ranking (U = USA, C = China, J = Japan, G = Germany and K = UK): \n",
    "\n",
    "$$ U^{(t)} = 1.01U^{(t-1)} + 0.02C^{(t-1)} + 0.01J^{(t-1)} + 0.01G^{(t-1)} + 0.01K^{(t-1)} + 0.01$$\n",
    "$$ C^{(t)} = 0.03U^{(t-1)} + 1.04C^{(t-1)} + 0.01J^{(t-1)} + 0.01G^{(t-1)} - 0.01K^{(t-1)}  + 0.03$$\n",
    "$$ J^{(t)} = 0.01U^{(t-1)} + 0.02C^{(t-1)} + 1.00J^{(t-1)} - 0.03G^{(t-1)} + 0.01K^{(t-1)}  - 0.02$$\n",
    "$$ G^{(t)} = 0.03U^{(t-1)} + 0.03C^{(t-1)} - 0.03J^{(t-1)} + 1.02G^{(t-1)} + 0.03K^{(t-1)}  + 0.02$$\n",
    "$$ K^{(t)} = 0.01U^{(t-1)} + 0.02C^{(t-1)} + 0.01J^{(t-1)} + 0.02G^{(t-1)} + 1.01K^{(t-1)}  + 0.01$$. "
   ]
  },
  {
   "cell_type": "markdown",
   "metadata": {
    "deletable": false,
    "editable": false,
    "nbgrader": {
     "cell_type": "markdown",
     "checksum": "425be8153940ee664d1742ccaa18d88a",
     "grade": false,
     "grade_id": "cell-85b1d399c85d6271",
     "locked": true,
     "schema_version": 3,
     "solution": false,
     "task": false
    }
   },
   "source": [
    "### GDP from Trading 8.1 (1 point)\n",
    "\n",
    "\n",
    "With out the effect of global trading, which country would experience a decrease of GDP.  \n",
    "$$$$\n",
    "\n",
    "$A: USA$\n",
    "\n",
    "$B: China$\n",
    "\n",
    "$C: Japan$\n",
    "\n",
    "$D: Germany$\n",
    "\n",
    "$D: UK$\n",
    "\n",
    "\n",
    "Please select an answer in question `question_81` by writing in the string `answer = \"\"`. For example if you think the answer is `E` then write `answer = \"E\"`. Hint... the answer might or might not E."
   ]
  },
  {
   "cell_type": "code",
   "execution_count": 35,
   "metadata": {
    "deletable": false,
    "nbgrader": {
     "cell_type": "code",
     "checksum": "3c81aca882134bfd8a306b45626a3a1f",
     "grade": false,
     "grade_id": "cell-86a3e94a7f96d249",
     "locked": false,
     "schema_version": 3,
     "solution": true,
     "task": false
    }
   },
   "outputs": [],
   "source": [
    "def question_81():\n",
    "    \"\"\"Change answer based on the question above. \"\"\"\n",
    "    \n",
    "    answer = \"C\"\n",
    "    # YOUR CODE HERE\n",
    "    \n",
    "    return(answer)"
   ]
  },
  {
   "cell_type": "code",
   "execution_count": null,
   "metadata": {
    "deletable": false,
    "editable": false,
    "nbgrader": {
     "cell_type": "code",
     "checksum": "9c570af127a947da609c15c472e4f22b",
     "grade": true,
     "grade_id": "cell-271dfeb34f8d7817",
     "locked": true,
     "points": 1,
     "schema_version": 3,
     "solution": false,
     "task": false
    }
   },
   "outputs": [],
   "source": [
    "# hidden tests beware"
   ]
  },
  {
   "cell_type": "markdown",
   "metadata": {
    "deletable": false,
    "editable": false,
    "nbgrader": {
     "cell_type": "markdown",
     "checksum": "d890aaf041392859a72df3a3d972c113",
     "grade": false,
     "grade_id": "cell-36342e6c55ec9594",
     "locked": true,
     "schema_version": 3,
     "solution": false,
     "task": false
    }
   },
   "source": [
    "### GDP from Trade 8.2 ( 2 points)\n",
    "Write the function `gdp` that takes in a vector x of shape (5,1) increments the states one year forward according to the difference equations above, and returns the new state vector. Must return a (5,1) matrix. (Note p = 5, and is given to you... this means you do not have to add a 1 to the end of the matrix to handle coefficients) Instead, think about x = Ax + b form..."
   ]
  },
  {
   "cell_type": "code",
   "execution_count": 36,
   "metadata": {
    "deletable": false,
    "nbgrader": {
     "cell_type": "code",
     "checksum": "ebd9278afaa1b39054e4f51d70f198b0",
     "grade": false,
     "grade_id": "cell-b884ba2e513f854b",
     "locked": false,
     "schema_version": 3,
     "solution": true,
     "task": false
    }
   },
   "outputs": [],
   "source": [
    "def gdp(x):\n",
    "    \"\"\"How countries effect each other's GDP\"\"\"\n",
    "    # YOUR CODE HERE\n",
    "    A=np.matrix([[1.01,0.02,0.01,0.01,0.01],\n",
    "                 [0.03,1.04,0.01,0.01,-0.01],\n",
    "                 [0.01,0.02,1.00,-0.03,0.01],\n",
    "                [0.03,0.03,-0.03,1.02,0.03],\n",
    "                [0.01,0.02,0.01,0.02,1.01]])\n",
    "    b=np.matrix([0.01,0.03,-0.02,0.02,0.01])\n",
    "    gdp=A*x.transpose()+b.transpose()\n",
    "    return (gdp)"
   ]
  },
  {
   "cell_type": "code",
   "execution_count": null,
   "metadata": {
    "deletable": false,
    "editable": false,
    "nbgrader": {
     "cell_type": "code",
     "checksum": "28cc05bc8eb9f94a9bd4110d96fca19e",
     "grade": true,
     "grade_id": "cell-d89dec1a6b3a2253",
     "locked": true,
     "points": 2,
     "schema_version": 3,
     "solution": false,
     "task": false
    }
   },
   "outputs": [],
   "source": [
    "# hidden tests beware"
   ]
  },
  {
   "cell_type": "markdown",
   "metadata": {
    "deletable": false,
    "editable": false,
    "nbgrader": {
     "cell_type": "markdown",
     "checksum": "d3af981ffa93589c420d3f382e2df63c",
     "grade": false,
     "grade_id": "cell-399740c1e8c765bb",
     "locked": true,
     "schema_version": 3,
     "solution": false,
     "task": false
    }
   },
   "source": [
    "### Trade War! Tariff Effects 7.3  ( 3 points)\n",
    "\n",
    "One country decided to impose tariff, this caused a domino effect in which in every country imposed tariff on each other. The result of this is a 300 basis point (0.03 trillion) shift downward across the GDP transition matrix.\n",
    "\n",
    "Apply this change to the `gdp` function, call the new function `gdp_tariff`. "
   ]
  },
  {
   "cell_type": "code",
   "execution_count": 37,
   "metadata": {
    "deletable": false,
    "nbgrader": {
     "cell_type": "code",
     "checksum": "0318ecc5326a11a3178cd566e8c5f82a",
     "grade": false,
     "grade_id": "cell-3aedfbb487fa37da",
     "locked": false,
     "schema_version": 3,
     "solution": true,
     "task": false
    }
   },
   "outputs": [],
   "source": [
    "def gdp_tariff(x):\n",
    "    \"\"\"How countries effect each other's GDP\"\"\"\n",
    "    # YOUR CODE HERE\n",
    "    A_83=np.matrix([[1.01,0.02,0.01,0.01,0.01],\n",
    "                 [0.03,1.04,0.01,0.01,-0.01],\n",
    "                 [0.01,0.02,1.00,-0.03,0.01],\n",
    "                [0.03,0.03,-0.03,1.02,0.03],\n",
    "                [0.01,0.02,0.01,0.02,1.01]])\n",
    "    b=np.matrix([0.01,0.03,-0.02,0.02,0.01])\n",
    "    T=np.full((5,5),-0.03)+np.diag([0.03,0.03,0.03,0.03,0.03])\n",
    "    A_tariff=A_83+T\n",
    "    gdp_adj=A_tariff*x.transpose()+b.transpose()\n",
    "    return (gdp_adj)"
   ]
  },
  {
   "cell_type": "code",
   "execution_count": null,
   "metadata": {
    "deletable": false,
    "editable": false,
    "nbgrader": {
     "cell_type": "code",
     "checksum": "cf51bedef954fc3b3f9e7439ebb0589f",
     "grade": true,
     "grade_id": "cell-dfd119e294bb53f9",
     "locked": true,
     "points": 3,
     "schema_version": 3,
     "solution": false,
     "task": false
    }
   },
   "outputs": [],
   "source": [
    "# hidden tests beware"
   ]
  },
  {
   "cell_type": "markdown",
   "metadata": {
    "deletable": false,
    "editable": false,
    "nbgrader": {
     "cell_type": "markdown",
     "checksum": "f30e95a28c23924593e4f0be59921efc",
     "grade": false,
     "grade_id": "cell-66af5164e897befd",
     "locked": true,
     "schema_version": 3,
     "solution": false,
     "task": false
    }
   },
   "source": [
    "# THIS IS THE END OF THE ASSIGNMENT, PLEASE SUBMIT TO THIS MACDRIVE LINK WITH THIS ASSIGNMENT RENAMED ACCORDING TO YOUR MACID \n",
    "\n",
    "https://macdrive.mcmaster.ca/u/d/818705de222f47838a63/\n"
   ]
  }
 ],
 "metadata": {
  "kernelspec": {
   "name": "Python 3.8.5 32-bit",
   "display_name": "Python 3.8.5 32-bit",
   "metadata": {
    "interpreter": {
     "hash": "4caad96d28be6d4402bb21e8303330eb42869caa9a2976b0016b191826aaa1bf"
    }
   }
  },
  "language_info": {
   "codemirror_mode": {
    "name": "ipython",
    "version": 3
   },
   "file_extension": ".py",
   "mimetype": "text/x-python",
   "name": "python",
   "nbconvert_exporter": "python",
   "pygments_lexer": "ipython3",
   "version": "3.8.5-final"
  }
 },
 "nbformat": 4,
 "nbformat_minor": 4
}
