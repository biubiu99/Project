{
 "cells": [
  {
   "cell_type": "markdown",
   "metadata": {},
   "source": [
    "Before you turn this problem in, make sure everything runs as expected. First, **restart the kernel** (in the menubar, select Kernel$\\rightarrow$Restart) and then **run all cells** (in the menubar, select Cell$\\rightarrow$Run All).\n",
    "\n",
    "Make sure you fill in any place that says `YOUR CODE HERE` or \"YOUR ANSWER HERE\", as well as your name and collaborators below:"
   ]
  },
  {
   "cell_type": "code",
   "execution_count": 1,
   "metadata": {},
   "outputs": [],
   "source": [
    "NAME = \"Ling Lu\"\n",
    "COLLABORATORS = \"\""
   ]
  },
  {
   "cell_type": "markdown",
   "metadata": {},
   "source": [
    "---"
   ]
  },
  {
   "cell_type": "markdown",
   "metadata": {
    "deletable": false,
    "editable": false,
    "nbgrader": {
     "cell_type": "markdown",
     "checksum": "1277696c5663183835f100ae195a6c9e",
     "grade": false,
     "grade_id": "cell-fef179e9c5b59cc2",
     "locked": true,
     "schema_version": 3,
     "solution": false,
     "task": false
    }
   },
   "source": [
    "# Homework 4 (Out of 21)\n",
    "\n",
    "Submit your assignment as a Jupyter notebook file called `macid_a4.ipynb`, where `macid` is replaced with your MacID from your McMaster email address. (For example: since my McMaster email address is pocucan@mcmaster.ca, I would submit a file called `pocucan_a4.ipynb`.) Submit this file to the appropriate MacDrive link by Monday Nov 23rd\n",
    "\n",
    "\n",
    "To complete your assignment, edit the function definitions in this template (then rename the file appropriately, as above). (Don't forget to use appropriate `return()` statements in your functions!) **Do not alter any other part of this template.**\n",
    "\n",
    "While developing and testing your code, it might be helpful to use\n",
    "`print` statements, but please remove them before submitting your solution. The template contains several `assert` statements that when executed will test your code.\n",
    "\n",
    "Any file submitted for grading that does not conform to the specifications above will lead to a grade of zero on the assignment.\n",
    "\n",
    "Before submitting your solution, you should make sure that it runs properly. To do this, you can open it in the Jupyter notebook server that comes installed with Anaconda, or you can use the McMaster Jupyter server, by going to the website https://mcmaster.syzygy.ca/. (Try running `Kernel > Restart & Run all` from the menu to run all of your code from scratch and make sure nothing is left out.) Feel free to use the Spyder IDE, or some other IDE, to develop your code before entering it into the Jupyter notebook that you submit.\n",
    "\n",
    "Your grade for each question will depend on whether or not your code correctly handles not just the test cases provided in the template, but other test cases that will be run on your solutions.\n",
    "\n",
    "Do not leave this assignment until the last minute; last-minute computer/internet issues on your part are your problem, not ours ...\n",
    "\n",
    "Late assignments will be penalized 25% per day.\n",
    "\n",
    "All work submitted for grading must be your own. You may discuss homework problems and related material with other students, but you must not submit work copied from others or from the internet.  If you use any internet resources for help, you **must** list them as comments (##) in your answer. \n",
    "\n",
    "Do not copy code from any other students, this is the fastest way for me to give you a 0. "
   ]
  },
  {
   "cell_type": "code",
   "execution_count": 7,
   "metadata": {
    "deletable": false,
    "editable": false,
    "nbgrader": {
     "cell_type": "code",
     "checksum": "fc397444990dcbe7664a0c49a44420d1",
     "grade": false,
     "grade_id": "cell-37b3c28006f6469e",
     "locked": true,
     "schema_version": 3,
     "solution": false,
     "task": false
    }
   },
   "outputs": [],
   "source": [
    "import numpy as np # import numpy module \n",
    "import matplotlib.pyplot as pyplot # import pyplot module \n",
    "from scipy import optimize as optimize # non linear function \n",
    "import numpy.random as random # import random number generator . \n",
    "import scipy.stats as stats # importing the stats submodule for some functions. \n",
    "import scipy.integrate as integrate"
   ]
  },
  {
   "cell_type": "markdown",
   "metadata": {
    "deletable": false,
    "editable": false,
    "nbgrader": {
     "cell_type": "markdown",
     "checksum": "3e1af3832eb6f9b7cb450d0a78d0d679",
     "grade": false,
     "grade_id": "cell-755363b8c54e7d5b",
     "locked": true,
     "schema_version": 3,
     "solution": false,
     "task": false
    }
   },
   "source": [
    "## Question 1: Bad Cop, No Donut\n",
    "\n",
    "\n",
    "\n",
    "<img src=\"https://static.wikia.nocookie.net/thelegomovie/images/a/ac/BadCop.png/revision/latest?cb=20181206015640\" width=\"400\" height=\"400\" />\n",
    "\n",
    "You've been pulled over by a police officer on the 402 Highway. Your car was reading a speed of 114 km/h but the police officer says you were going 120. Your car is a Tesla Model S which records speed data for the day. You pull up your app and show the speed you were going when the cop clocked you with his speed measuring device. \n",
    "\n",
    "\n",
    "The cop insists that his device is accurate enough to catch you speeding. So he gives you the $125 ticket. You take him to public court over this. You find out that his speed measuring device has a measurement error of +-5 km/h \n",
    "\n",
    "Let's prove that his device isn't so accurate. \n"
   ]
  },
  {
   "cell_type": "markdown",
   "metadata": {
    "deletable": false,
    "editable": false,
    "nbgrader": {
     "cell_type": "markdown",
     "checksum": "8dcb606a75930228b9e080539cc76bc8",
     "grade": false,
     "grade_id": "cell-de514902403e9dbf",
     "locked": true,
     "schema_version": 3,
     "solution": false,
     "task": false
    }
   },
   "source": [
    "### Question 1 Part 1 (2 points)\n",
    "\n",
    "Assuming Gaussian distribution on the device error, use the `generate_speed_data` function to generate possible speed readings the device could have been measured for your situation. \n",
    "\n",
    "The function takes in nothing, and spits out an `np.array` of size `(n,)`. Let `n=4000`.\n",
    "\n",
    "hint: You should probably use the random submodule. "
   ]
  },
  {
   "cell_type": "code",
   "execution_count": 7,
   "metadata": {
    "deletable": false,
    "nbgrader": {
     "cell_type": "code",
     "checksum": "320b44ee155d65757eb784b6edb20d04",
     "grade": false,
     "grade_id": "cell-1a2363cc5bc9be78",
     "locked": false,
     "schema_version": 3,
     "solution": true,
     "task": false
    }
   },
   "outputs": [],
   "source": [
    "def generate_speed_data():\n",
    "    random.seed(2)\n",
    "    n = 4000\n",
    "    # YOUR CODE HERE\n",
    "    v=np.random.normal(114,5,size=(n,))\n",
    "    return(v)"
   ]
  },
  {
   "cell_type": "code",
   "execution_count": 4,
   "metadata": {
    "deletable": false,
    "editable": false,
    "nbgrader": {
     "cell_type": "code",
     "checksum": "e84218f675fac2697cac3846468f3214",
     "grade": true,
     "grade_id": "cell-cd2ad6cbb57b87c8",
     "locked": true,
     "points": 0,
     "schema_version": 3,
     "solution": false,
     "task": false
    }
   },
   "outputs": [],
   "source": [
    "# visible test \n",
    "assert generate_speed_data().shape == (4000,)"
   ]
  },
  {
   "cell_type": "code",
   "execution_count": 5,
   "metadata": {
    "deletable": false,
    "editable": false,
    "nbgrader": {
     "cell_type": "code",
     "checksum": "011ab0db63ebec392e7581fcde05ce2b",
     "grade": true,
     "grade_id": "cell-e1e9f9d7a4b8cfab",
     "locked": true,
     "points": 1,
     "schema_version": 3,
     "solution": false,
     "task": false
    }
   },
   "outputs": [],
   "source": [
    "## hidden tests, \n",
    "## check to make sure the generated data is appropriate. \n"
   ]
  },
  {
   "cell_type": "code",
   "execution_count": 6,
   "metadata": {
    "deletable": false,
    "editable": false,
    "nbgrader": {
     "cell_type": "code",
     "checksum": "37fa43adc715e7602b6360e4a105bdb0",
     "grade": true,
     "grade_id": "cell-c1d23bc3a659afc0",
     "locked": true,
     "points": 1,
     "schema_version": 3,
     "solution": false,
     "task": false
    }
   },
   "outputs": [],
   "source": [
    "## hidden tests, \n"
   ]
  },
  {
   "cell_type": "markdown",
   "metadata": {
    "deletable": false,
    "editable": false,
    "nbgrader": {
     "cell_type": "markdown",
     "checksum": "939e00f783ab95868e50e2907a34d7d1",
     "grade": false,
     "grade_id": "cell-ea7327c9fbe4af36",
     "locked": true,
     "schema_version": 3,
     "solution": false,
     "task": false
    }
   },
   "source": [
    "### Question 1 Part 2 (2 points)\n",
    "\n",
    "Using the `quantile` function in the `numpy` module, and the data from the previous question, determine the probability that the cop would measure you speeding. For your particular situation, speeding would be 120km/hr or greater. Please put your answer as a `float` number in the function `prob_speeding`. Probability is a number between 0 or 1. "
   ]
  },
  {
   "cell_type": "code",
   "execution_count": 8,
   "metadata": {
    "deletable": false,
    "nbgrader": {
     "cell_type": "code",
     "checksum": "8ed94069df85b0231bb3cf931dd91aa5",
     "grade": false,
     "grade_id": "cell-66e06fd16bd54dc6",
     "locked": false,
     "schema_version": 3,
     "solution": true,
     "task": false
    }
   },
   "outputs": [
    {
     "output_type": "execute_result",
     "data": {
      "text/plain": [
       "0.10999999999999999"
      ]
     },
     "metadata": {},
     "execution_count": 8
    }
   ],
   "source": [
    "def prob_speeding(): \n",
    "    \"\"\" place the probability speeding. \"\"\"\n",
    "    answer =0.0\n",
    "    # YOUR CODE HERE\n",
    "    v=generate_speed_data()\n",
    "    for i in range (0,101):\n",
    "        if 120<=np.quantile(v,i/100):\n",
    "            answer=(1-i/100)\n",
    "            return(answer)\n",
    "\n",
    "prob_speeding()"
   ]
  },
  {
   "cell_type": "code",
   "execution_count": 8,
   "metadata": {
    "deletable": false,
    "editable": false,
    "nbgrader": {
     "cell_type": "code",
     "checksum": "89c7a28e151a20ee5214d3a7da5a09cc",
     "grade": true,
     "grade_id": "cell-5c896a19089dca63",
     "locked": true,
     "points": 0,
     "schema_version": 3,
     "solution": false,
     "task": false
    }
   },
   "outputs": [],
   "source": [
    "## visible test check 0 points. \n",
    "your_prob = prob_speeding()\n",
    "\n",
    "assert type(your_prob) == float \n",
    "assert 0 <= your_prob <= 1  "
   ]
  },
  {
   "cell_type": "code",
   "execution_count": 9,
   "metadata": {
    "deletable": false,
    "editable": false,
    "nbgrader": {
     "cell_type": "code",
     "checksum": "52dcaa8d4e47fbe1a17db5f2a185daa9",
     "grade": true,
     "grade_id": "cell-790e2285ba5b1369",
     "locked": true,
     "points": 2,
     "schema_version": 3,
     "solution": false,
     "task": false
    }
   },
   "outputs": [],
   "source": [
    "### hidden tests "
   ]
  },
  {
   "cell_type": "markdown",
   "metadata": {
    "deletable": false,
    "editable": false,
    "nbgrader": {
     "cell_type": "markdown",
     "checksum": "063d2f678a3d611032b905bfae70734b",
     "grade": false,
     "grade_id": "cell-6bd72a8855bd6527",
     "locked": true,
     "schema_version": 3,
     "solution": false,
     "task": false
    }
   },
   "source": [
    "## Question 2: Bomb Time Prediction (4 points)\n",
    "\n",
    "\n",
    "<img src=\"data:image/jpeg;base64,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\" width=\"400\" height=\"400\" />\n",
    "\n",
    "\n",
    "You are a CTU Agent Jack Bauer, you come across some intel that a terrorist set up a bomb 43 months ago in the middle of a road. It is set to go off today at 3pm. However you look at the time it is currently 2:00pm. If you called in bomb-squad now, it would take 50 minutes for them to get there. Assume that the bomb-squad disarms the bomb within 5 minutes of reaching the location.\n",
    "\n",
    "The watch used for the timing mechanism of the device is a CASIO F91-W. Assume the measurement error is Gaussian in nature. You will need to do some research online to figure out what the standard deviation of the timing error is for this particular watch brand. \n",
    "\n",
    "PS: If you haven't watched the show \"24\", please go watch the first episode if you have time, it is so ridiculous the situations that come about."
   ]
  },
  {
   "cell_type": "markdown",
   "metadata": {
    "deletable": false,
    "editable": false,
    "nbgrader": {
     "cell_type": "markdown",
     "checksum": "efd09fac9425b56468402eeec0037b70",
     "grade": false,
     "grade_id": "cell-b8a73201362eb48e",
     "locked": true,
     "schema_version": 3,
     "solution": false,
     "task": false
    }
   },
   "source": [
    "What is the probability that the bomb will explode before the bomb-squad gets there?\n",
    "\n",
    "Your choices are: \n",
    "\n",
    "A: 5% \n",
    "\n",
    "B: 1% \n",
    "\n",
    "C: 10% \n",
    "\n",
    "D: <1%\n",
    "\n",
    "Please write your answer in the function `before_squad` as a string. \n",
    "\n"
   ]
  },
  {
   "cell_type": "code",
   "execution_count": 10,
   "metadata": {
    "deletable": false,
    "nbgrader": {
     "cell_type": "code",
     "checksum": "005eb9fc68e0844e1ac6cbe9d0974492",
     "grade": false,
     "grade_id": "cell-5fb22f928ad086ac",
     "locked": false,
     "schema_version": 3,
     "solution": true,
     "task": false
    }
   },
   "outputs": [],
   "source": [
    "def before_squad():\n",
    "    answer = \"D\"\n",
    "    # YOUR CODE HERE\n",
    "    \n",
    "    return(answer)\n",
    "    "
   ]
  },
  {
   "cell_type": "code",
   "execution_count": 11,
   "metadata": {
    "deletable": false,
    "editable": false,
    "nbgrader": {
     "cell_type": "code",
     "checksum": "92312b6d77310efe1a0cd547934d4636",
     "grade": true,
     "grade_id": "cell-84f2e9a56096ea9f",
     "locked": true,
     "points": 1,
     "schema_version": 3,
     "solution": false,
     "task": false
    }
   },
   "outputs": [],
   "source": [
    "# visible tests \n",
    "your_prob = before_squad()\n",
    "assert type(your_prob) == str\n",
    "\n",
    "# hidden tests \n"
   ]
  },
  {
   "cell_type": "markdown",
   "metadata": {
    "deletable": false,
    "editable": false,
    "nbgrader": {
     "cell_type": "markdown",
     "checksum": "50c70fc5d2a8962a5cb81e6f0f359787",
     "grade": false,
     "grade_id": "cell-e055d8f2bb90f9b0",
     "locked": true,
     "schema_version": 3,
     "solution": false,
     "task": false
    }
   },
   "source": [
    "What is the probability that the bomb will explode during the defusing of the device?\n",
    "\n",
    "Your choices are: \n",
    "\n",
    "A: 6.5 %\n",
    "\n",
    "B: 4.5 %\n",
    "\n",
    "C: 7.2 %\n",
    "\n",
    "D: 5.1 %\n",
    "\n",
    "Use the function `during_squad` and place your answer as a string. "
   ]
  },
  {
   "cell_type": "code",
   "execution_count": 12,
   "metadata": {
    "deletable": false,
    "nbgrader": {
     "cell_type": "code",
     "checksum": "00266806d64454afd73b7e4548fc2831",
     "grade": false,
     "grade_id": "cell-cce93cc557a63197",
     "locked": false,
     "schema_version": 3,
     "solution": true,
     "task": false
    }
   },
   "outputs": [],
   "source": [
    "def during_squad():\n",
    "    answer =  \"A\"\n",
    "    # YOUR CODE HERE\n",
    "    \n",
    "    return(answer)"
   ]
  },
  {
   "cell_type": "code",
   "execution_count": 13,
   "metadata": {
    "deletable": false,
    "editable": false,
    "nbgrader": {
     "cell_type": "code",
     "checksum": "fb581890608854ea89b0d7f9b6a67e5f",
     "grade": true,
     "grade_id": "cell-b17e67c77e9a47e0",
     "locked": true,
     "points": 3,
     "schema_version": 3,
     "solution": false,
     "task": false
    }
   },
   "outputs": [],
   "source": [
    "# visible test\n",
    "assert type(during_squad()) == str\n",
    "# hidden tests \n"
   ]
  },
  {
   "cell_type": "markdown",
   "metadata": {
    "deletable": false,
    "editable": false,
    "nbgrader": {
     "cell_type": "markdown",
     "checksum": "66def729259d6d3eea4c0c543bd1fc17",
     "grade": false,
     "grade_id": "cell-92483ac4045e039a",
     "locked": true,
     "schema_version": 3,
     "solution": false,
     "task": false
    }
   },
   "source": [
    "## Question 3: Differential Equation Model Fitting (2 points)\n",
    "\n",
    "Looking at the following dataset: \n",
    "\n",
    "\n",
    "<img src=\"https://ms.mcmaster.ca/~pocucan/some_data\n",
    "\" width=\"400\" height=\"400\" />\n",
    "\n",
    "\n",
    "The x-axis is $t$, the y-axis is $y$.\n",
    "\n",
    "Which differential equation would model this data the best?\n",
    "\n",
    "A: $\\frac{\\partial y}{ \\partial t} = \\beta sin(t) $\n",
    "\n",
    "B: $\\frac{\\partial y}{ \\partial t} = \\beta cos(t) $\n",
    "\n",
    "C: $\\frac{\\partial y}{ \\partial t} = \\beta cos(t) + 1 $\n",
    "\n",
    "D: $\\frac{\\partial y}{ \\partial t} = \\beta sin(t) + 0.2 $\n",
    "\n",
    "Use the `which_model` function definition to answer the question, return the answer as a string type"
   ]
  },
  {
   "cell_type": "code",
   "execution_count": 14,
   "metadata": {
    "deletable": false,
    "nbgrader": {
     "cell_type": "code",
     "checksum": "13e2ffd987c7f83b4be77c6dc652cd8c",
     "grade": false,
     "grade_id": "cell-acdd9739226ffeff",
     "locked": false,
     "schema_version": 3,
     "solution": true,
     "task": false
    }
   },
   "outputs": [],
   "source": [
    "def which_model():\n",
    "    \n",
    "    answer = \"B\"\n",
    "    # YOUR CODE HERE\n",
    "    \n",
    "    return(answer)"
   ]
  },
  {
   "cell_type": "code",
   "execution_count": 15,
   "metadata": {
    "deletable": false,
    "editable": false,
    "nbgrader": {
     "cell_type": "code",
     "checksum": "1dacec3b85cf5044473c316039488c65",
     "grade": true,
     "grade_id": "cell-b6b6f7734e2f3df1",
     "locked": true,
     "points": 2,
     "schema_version": 3,
     "solution": false,
     "task": false
    }
   },
   "outputs": [],
   "source": [
    "# visible tests \n",
    "your_answer = which_model()\n",
    "assert type(your_answer) == str\n",
    "# invisible tests \n"
   ]
  },
  {
   "cell_type": "markdown",
   "metadata": {
    "deletable": false,
    "editable": false,
    "nbgrader": {
     "cell_type": "markdown",
     "checksum": "ad7bbef37fd5de2fb3ca9ea2161f66cb",
     "grade": false,
     "grade_id": "cell-146f7c333e124047",
     "locked": true,
     "schema_version": 3,
     "solution": false,
     "task": false
    }
   },
   "source": [
    "## Question 3 Part 2:  Coefficient Fitting (4 points)\n",
    "\n",
    "Given the following dataset: \n",
    "\n",
    "t = np.array([0.02898268, 0.05238042, 0.27095754, 0.29074201, 0.32255635,\n",
    "       0.35911651, 0.4636914 , 0.60577309, 0.82756602, 0.85407685,\n",
    "       0.90926909, 0.99562962, 1.11866281, 1.22029628, 1.25023908,\n",
    "       1.37951219, 1.3917662 , 1.70318754, 1.90184329, 1.98798469,\n",
    "       2.01999713, 2.06872667, 2.16774733, 2.52214379, 2.71491843,\n",
    "       2.78814761, 2.95614665, 2.95682669, 3.26451761, 3.58074809,\n",
    "       3.63487445, 3.64817505, 3.66838719, 4.04461847, 4.05475601,\n",
    "       4.19024657, 4.20048079, 4.28158662, 4.45660675, 4.63914783,\n",
    "       5.09852661, 5.11026401, 5.15725888, 5.29211596, 5.37274435,\n",
    "       5.47425864, 5.55277478, 5.58765069, 5.78755007, 5.89111624])\n",
    "       \n",
    " \n",
    "y = np.array([-0.39639144 -0.32400268 -0.27186431 -0.25562032 -0.16225675 -0.15189875\n",
    " -0.11074858 -0.05655599  0.04667011  0.07349647  0.12134261  0.14489261\n",
    "  0.26638036  0.2880655   0.54772415  0.82618039  0.87950423  0.94528821\n",
    "  1.16324656  1.20999071  1.21907119  1.2558439   1.29965583  1.36286691\n",
    "  1.4337609   1.45435494  1.45834378  1.45995335  1.46144188  1.46084769\n",
    "  1.45720345  1.45546776  1.45130138  1.4488481   1.43724387  1.43141401\n",
    "  1.42564735  1.4096291   1.39342074  1.39234778  1.39108271  1.3815082\n",
    "  1.37663599  1.36745763  1.36627171  1.36604462  1.36983414  1.37362336\n",
    "  1.3776294   1.38801987])\n",
    "  \n",
    "  and the following model: \n",
    "  \n",
    "  $$ \\frac{\\partial y}{\\partial t} = -\\alpha sin(t) + \\beta $$\n",
    "  \n",
    "  \n",
    " Estimate the coefficients $\\beta$ and $\\alpha$, and declare them correctly within the `find_model_coefficients` function. "
   ]
  },
  {
   "cell_type": "code",
   "execution_count": 16,
   "metadata": {
    "deletable": false,
    "nbgrader": {
     "cell_type": "code",
     "checksum": "04924d791a5c2ba8a0d083a4cc490709",
     "grade": false,
     "grade_id": "cell-853c65c4453386d8",
     "locked": false,
     "schema_version": 3,
     "solution": true,
     "task": false
    }
   },
   "outputs": [],
   "source": [
    "\n",
    "def find_model_coefficients():\n",
    "\n",
    "    beta = 0.0 \n",
    "    alpha = 0.0 \n",
    "    \n",
    "    # YOUR CODE HERE\n",
    "    \n",
    "    alpha=-0.54811132\n",
    "    beta=0.28133012\n",
    "    \n",
    "    return(float(beta),float(alpha))"
   ]
  },
  {
   "cell_type": "code",
   "execution_count": 8,
   "metadata": {},
   "outputs": [
    {
     "output_type": "stream",
     "name": "stdout",
     "text": [
      "      fun: 1.2973645913356537\n hess_inv: array([[3.09352428e-06, 9.57606381e-06],\n       [9.57606381e-06, 2.96430236e-05]])\n      jac: array([-4.34219837e-05, -3.79234552e-05])\n  message: 'Desired error not necessarily achieved due to precision loss.'\n     nfev: 151\n      nit: 8\n     njev: 49\n   status: 2\n  success: False\n        x: array([-0.54811302,  0.2813301 ])\n"
     ]
    }
   ],
   "source": [
    "y = np.array([-0.39639144,-0.32400268, -0.27186431, -0.25562032, -0.16225675, -0.15189875, -0.11074858, -0.05655599, 0.04667011, 0.07349647, 0.12134261, 0.14489261, 0.26638036, 0.2880655, 0.54772415, 0.82618039, 0.87950423, 0.94528821, 1.16324656,1.20999071, 1.21907119, 1.2558439, 1.29965583, 1.36286691, 1.4337609, 1.45435494, 1.45834378, 1.45995335, 1.46144188, 1.46084769, 1.45720345, 1.45546776, 1.45130138, 1.4488481 ,1.43724387, 1.43141401, 1.42564735, 1.4096291, 1.39342074, 1.39234778, 1.39108271 ,1.3815082, 1.37663599 ,1.36745763, 1.36627171, 1.36604462, 1.36983414, 1.37362336 ,1.3776294, 1.38801987])\n",
    "\n",
    "t = np.array([0.02898268, 0.05238042, 0.27095754, 0.29074201, 0.32255635, 0.35911651, 0.4636914 , 0.60577309, 0.82756602, 0.85407685, 0.90926909, 0.99562962, 1.11866281, 1.22029628, 1.25023908, 1.37951219, 1.3917662 , 1.70318754, 1.90184329, 1.98798469, 2.01999713, 2.06872667, 2.16774733, 2.52214379, 2.71491843, 2.78814761, 2.95614665, 2.95682669, 3.26451761, 3.58074809, 3.63487445, 3.64817505, 3.66838719, 4.04461847, 4.05475601, 4.19024657, 4.20048079, 4.28158662, 4.45660675, 4.63914783, 5.09852661, 5.11026401, 5.15725888, 5.29211596, 5.37274435, 5.47425864, 5.55277478, 5.58765069, 5.78755007, 5.89111624])\n",
    "\n",
    "\n",
    "\n",
    "beta = 0.0 \n",
    "alpha = 0.0 \n",
    "\n",
    "def h(theta):\n",
    "  alpha,beta=theta\n",
    "  sse=0.0\n",
    "  def dy_dt(y,t):\n",
    "    return(-alpha*np.sin(t)+beta)\n",
    "  t_hat=np.linspace(t[0],6,500)\n",
    "  y_hat=integrate.odeint(dy_dt,-0.39639144,t_hat)\n",
    "  for i in range(0,len(y)):\n",
    "    idx=np.abs(t[i]-t_hat).argmin()\n",
    "    sse+=((y[i]-y_hat[idx])**2)\n",
    "  return (sse)\n",
    "result=optimize.minimize(h,[1,1])\n",
    "\n",
    "print(result)\n"
   ]
  },
  {
   "cell_type": "code",
   "execution_count": 18,
   "metadata": {
    "deletable": false,
    "editable": false,
    "nbgrader": {
     "cell_type": "code",
     "checksum": "1bb7c1a504e5cd618ed318fd6bd8d014",
     "grade": true,
     "grade_id": "cell-eb03729beaaaf2c6",
     "locked": true,
     "points": 0,
     "schema_version": 3,
     "solution": false,
     "task": false
    }
   },
   "outputs": [],
   "source": [
    "# visible tests \n",
    "your_coefs = find_model_coefficients()\n",
    "assert type(your_coefs) == tuple\n",
    "assert type(your_coefs[0]) == float\n",
    "\n",
    "assert type(your_coefs[1]) == float"
   ]
  },
  {
   "cell_type": "code",
   "execution_count": 19,
   "metadata": {
    "deletable": false,
    "editable": false,
    "nbgrader": {
     "cell_type": "code",
     "checksum": "a53c33e390ccd0592e875f0b6485b3a5",
     "grade": true,
     "grade_id": "cell-656c42349dbbe3bc",
     "locked": true,
     "points": 4,
     "schema_version": 3,
     "solution": false,
     "task": false
    }
   },
   "outputs": [],
   "source": [
    "# hidden tests... "
   ]
  },
  {
   "cell_type": "markdown",
   "metadata": {
    "deletable": false,
    "editable": false,
    "nbgrader": {
     "cell_type": "markdown",
     "checksum": "feff4a33fe60322706eda7dd3b2d47bf",
     "grade": false,
     "grade_id": "cell-1796c599a1397583",
     "locked": true,
     "schema_version": 3,
     "solution": false,
     "task": false
    }
   },
   "source": [
    "## Question 4: Mixture Distributions (7 points)\n",
    "\n",
    "The following dataset found at: \n",
    "\n",
    "https://ms.mcmaster.ca/pocucan/data.txt\n",
    "\n",
    "Look up how to read in data in numpy from a txt file, there is a specific function which makes it super convenient. \n",
    "\n",
    "\n",
    "Assumes there exists two different Gaussian distributions, and you sample from one 50% of the time, and the other one the remaining 50% of the time. Each Gaussian distribution has the same variance, but different means. Here is the following objective function otherwise known as the log-liklihood for this model: \n",
    "\n",
    "\n",
    "$$ l(\\tau_1,\\tau_2,\\mu_1,\\mu_2) = \\sum_{i=1}^n \\log \\left(\\sum_{g=1}^2 \\tau_g f(x_i, \\mu_g,1) \\right) $$\n",
    "\n",
    "Where $f$ is the density of the Gaussian distribution. Use non-linear optimization to estimate what $\\tau_1,\\tau_2,\\mu_1,\\mu_2$ are. \n"
   ]
  },
  {
   "cell_type": "markdown",
   "metadata": {
    "deletable": false,
    "editable": false,
    "nbgrader": {
     "cell_type": "markdown",
     "checksum": "58fe51e598292103ac2685a16a9fc8e5",
     "grade": false,
     "grade_id": "cell-6724a1c44d3cfbee",
     "locked": true,
     "schema_version": 3,
     "solution": false,
     "task": false
    }
   },
   "source": [
    "##  Question 4 Part 1 \n",
    "\n",
    "This non-linear optimization is too difficult to do directly, instead you should infer from the description what the values of $\\tau_1$ and $\\tau_2$ are.\n",
    "\n",
    "Use the function definition `tau_coefs` and return a tuple of two floats. \n"
   ]
  },
  {
   "cell_type": "code",
   "execution_count": 20,
   "metadata": {
    "deletable": false,
    "nbgrader": {
     "cell_type": "code",
     "checksum": "82a004923820f25fab0c696f05acb899",
     "grade": false,
     "grade_id": "cell-a5139058174fe296",
     "locked": false,
     "schema_version": 3,
     "solution": true,
     "task": false
    }
   },
   "outputs": [],
   "source": [
    "def tau_coefs():\n",
    "    \n",
    "    tau_1 = 0.5\n",
    "    tau_2 = 0.5\n",
    "    \n",
    "    # YOUR CODE HERE\n",
    "    \n",
    "    return(tau_1,tau_2)\n"
   ]
  },
  {
   "cell_type": "code",
   "execution_count": 21,
   "metadata": {
    "deletable": false,
    "editable": false,
    "nbgrader": {
     "cell_type": "code",
     "checksum": "ae654b759148e602f2762a4e6b2831ad",
     "grade": true,
     "grade_id": "cell-2b8a8a78c2a6cd46",
     "locked": true,
     "points": 2,
     "schema_version": 3,
     "solution": false,
     "task": false
    }
   },
   "outputs": [],
   "source": [
    "# visible tests \n",
    "assert type(tau_coefs()) == tuple \n",
    "assert type(tau_coefs()[0]) == float \n",
    "assert type(tau_coefs()[1]) == float  \n"
   ]
  },
  {
   "cell_type": "markdown",
   "metadata": {
    "deletable": false,
    "editable": false,
    "nbgrader": {
     "cell_type": "markdown",
     "checksum": "495fd40021f334dbe4fdbd9c20ee139e",
     "grade": false,
     "grade_id": "cell-99d5c6d19de43a09",
     "locked": true,
     "schema_version": 3,
     "solution": false,
     "task": false
    }
   },
   "source": [
    "## Question 4 Part 2 \n",
    "\n",
    "Use non-linear optimization to estimate the values of $\\mu_1$ and $\\mu_2$. \n",
    "\n",
    "Use the function definition `mu_coefs` and return a tuple of two floats. \n",
    "\n",
    "\n",
    "Hint: You should probably use the scipy.stats submodule for calculating the density of a normal distribution. \n",
    "\n"
   ]
  },
  {
   "cell_type": "code",
   "execution_count": 22,
   "metadata": {
    "deletable": false,
    "nbgrader": {
     "cell_type": "code",
     "checksum": "f709181d4b3cd1ef9477e4a8d050feab",
     "grade": false,
     "grade_id": "cell-07f0d5937eb0de88",
     "locked": false,
     "schema_version": 3,
     "solution": true,
     "task": false
    }
   },
   "outputs": [],
   "source": [
    "def mu_coefs():\n",
    "    \n",
    "    mu_1 = 5.64327013\n",
    "    mu_2 = 5.64327015\n",
    "    \n",
    "    # YOUR CODE HERE\n",
    "    \n",
    "    return(mu_1,mu_2)"
   ]
  },
  {
   "cell_type": "code",
   "execution_count": 9,
   "metadata": {},
   "outputs": [
    {
     "output_type": "stream",
     "name": "stdout",
     "text": [
      "      fun: 3.224171427529236\n hess_inv: array([[1.00000000e+00, 2.10164468e-09],\n       [2.10164466e-09, 1.00000001e+00]])\n      jac: array([0., 0.])\n  message: 'Optimization terminated successfully.'\n     nfev: 12\n      nit: 3\n     njev: 4\n   status: 0\n  success: True\n        x: array([5.64327018, 5.64327015])\n"
     ]
    }
   ],
   "source": [
    "\n",
    "def h2(theta):\n",
    "    mu1=theta[0]\n",
    "    mu2=theta[1]\n",
    "    loglik=0.0\n",
    "    x=np.loadtxt(\"https://ms.mcmaster.ca/pocucan/data.txt\")\n",
    "    for i in range (0,len(x)):\n",
    "        loglik+=np.log(0.5*stats.norm.pdf(x[i],mu1,1))+np.log(0.5*stats.norm.pdf(x[i],mu2,1))\n",
    "        return (-loglik)\n",
    "result=optimize.minimize(h2,[6,9.2])\n",
    "print(result)\n"
   ]
  },
  {
   "cell_type": "code",
   "execution_count": 24,
   "metadata": {
    "deletable": false,
    "editable": false,
    "nbgrader": {
     "cell_type": "code",
     "checksum": "674f6482b1043d003ef0376949cde5a0",
     "grade": true,
     "grade_id": "cell-7c5441c72de72866",
     "locked": true,
     "points": 5,
     "schema_version": 3,
     "solution": false,
     "task": false
    }
   },
   "outputs": [],
   "source": [
    "# visible tests \n",
    "assert type(mu_coefs()) == tuple \n",
    "assert type(mu_coefs()[0]) == float \n",
    "assert type(mu_coefs()[1]) == float  \n",
    "\n",
    "# hidden tests \n"
   ]
  },
  {
   "cell_type": "markdown",
   "metadata": {
    "deletable": false,
    "editable": false,
    "nbgrader": {
     "cell_type": "markdown",
     "checksum": "c987f68e27f8d46036384b153dc31acd",
     "grade": false,
     "grade_id": "cell-6194d523b6eb094f",
     "locked": true,
     "schema_version": 3,
     "solution": false,
     "task": false
    }
   },
   "source": [
    "# THIS IS THE END OF THE ASSIGNMENT, PLEASE SUBMIT TO THIS MACDRIVE LINK WITH THIS ASSIGNMENT RENAMED ACCORDING TO YOUR MACID  DONT FORGET TO REMOVE NOT IMPLEMENTED ERROR LINES\n",
    "\n",
    "\n",
    "<img src=\"https://i.4pcdn.org/s4s/1546837455034.jpg\n",
    "\" width=\"400\" height=\"400\" />\n",
    "\n",
    "# The dapper duck of success wishes you good luck on your submission.\n",
    "\n",
    "https://macdrive.mcmaster.ca/u/d/818705de222f47838a63/\n"
   ]
  },
  {
   "cell_type": "code",
   "execution_count": null,
   "metadata": {},
   "outputs": [],
   "source": []
  }
 ],
 "metadata": {
  "kernelspec": {
   "name": "python3",
   "display_name": "Python 3.8.5 32-bit",
   "metadata": {
    "interpreter": {
     "hash": "4caad96d28be6d4402bb21e8303330eb42869caa9a2976b0016b191826aaa1bf"
    }
   }
  },
  "language_info": {
   "codemirror_mode": {
    "name": "ipython",
    "version": 3
   },
   "file_extension": ".py",
   "mimetype": "text/x-python",
   "name": "python",
   "nbconvert_exporter": "python",
   "pygments_lexer": "ipython3",
   "version": "3.8.5-final"
  }
 },
 "nbformat": 4,
 "nbformat_minor": 4
}