{
 "cells": [
  {
   "cell_type": "markdown",
   "metadata": {},
   "source": [
    "Before you turn this problem in, make sure everything runs as expected. First, **restart the kernel** (in the menubar, select Kernel$\\rightarrow$Restart) and then **run all cells** (in the menubar, select Cell$\\rightarrow$Run All).\n",
    "\n",
    "Make sure you fill in any place that says `YOUR CODE HERE` or \"YOUR ANSWER HERE\", as well as your name and collaborators below:"
   ]
  },
  {
   "cell_type": "code",
   "execution_count": null,
   "metadata": {},
   "outputs": [],
   "source": [
    "NAME = \"Ling Lu\"\n",
    "COLLABORATORS = \"\""
   ]
  },
  {
   "cell_type": "markdown",
   "metadata": {},
   "source": [
    "---"
   ]
  },
  {
   "cell_type": "markdown",
   "metadata": {
    "deletable": false,
    "editable": false,
    "nbgrader": {
     "cell_type": "markdown",
     "checksum": "a74749af55e727a2d020c0b12d8ca19e",
     "grade": false,
     "grade_id": "cell-eddd5fe814be5083",
     "locked": true,
     "schema_version": 3,
     "solution": false,
     "task": false
    }
   },
   "source": [
    "# Homework 5 (Out of 29)\n",
    "\n",
    "Submit your assignment as a Jupyter notebook file called `macid_a5.ipynb`, where `macid` is replaced with your MacID from your McMaster email address. (For example: since my McMaster email address is pocucan@mcmaster.ca, I would submit a file called `pocucan_a5.ipynb`.) Submit this file to the appropriate MacDrive link by BLANK\n",
    "\n",
    "\n",
    "To complete your assignment, edit the function definitions in this template (then rename the file appropriately, as above). (Don't forget to use appropriate `return()` statements in your functions!) **Do not alter any other part of this template.**\n",
    "\n",
    "While developing and testing your code, it might be helpful to use\n",
    "`print` statements, but please remove them before submitting your solution. The template contains several `assert` statements that when executed will test your code.\n",
    "\n",
    "Any file submitted for grading that does not conform to the specifications above will lead to a grade of zero on the assignment.\n",
    "\n",
    "Before submitting your solution, you should make sure that it runs properly. To do this, you can open it in the Jupyter notebook server that comes installed with Anaconda, or you can use the McMaster Jupyter server, by going to the website https://mcmaster.syzygy.ca/. (Try running `Kernel > Restart & Run all` from the menu to run all of your code from scratch and make sure nothing is left out.) Feel free to use the Spyder IDE, or some other IDE, to develop your code before entering it into the Jupyter notebook that you submit.\n",
    "\n",
    "Your grade for each question will depend on whether or not your code correctly handles not just the test cases provided in the template, but other test cases that will be run on your solutions.\n",
    "\n",
    "Do not leave this assignment until the last minute; last-minute computer/internet issues on your part are your problem, not ours ...\n",
    "\n",
    "Late assignments will be penalized 25% per day.\n",
    "\n",
    "All work submitted for grading must be your own. You may discuss homework problems and related material with other students, but you must not submit work copied from others or from the internet.  If you use any internet resources for help, you **must** list them as comments (##) in your answer. \n",
    "\n",
    "Do not copy code from any other students, this is the fastest way for me to give you a 0. "
   ]
  },
  {
   "cell_type": "code",
   "execution_count": 2,
   "metadata": {
    "deletable": false,
    "editable": false,
    "nbgrader": {
     "cell_type": "code",
     "checksum": "b3b9c4975ad512763bb0b0e5e0c5f796",
     "grade": false,
     "grade_id": "cell-d506c1bf0e77077d",
     "locked": true,
     "schema_version": 3,
     "solution": false,
     "task": false
    }
   },
   "outputs": [],
   "source": [
    "import matplotlib.pyplot as pyplot \n",
    "import numpy as np \n",
    "import numpy.random as random \n",
    "import scipy.optimize as optimize \n",
    "import scipy.integrate as integrate "
   ]
  },
  {
   "cell_type": "markdown",
   "metadata": {
    "deletable": false,
    "editable": false,
    "nbgrader": {
     "cell_type": "markdown",
     "checksum": "dba1c5df2c6ad9941cab477f15795816",
     "grade": false,
     "grade_id": "cell-46762cf0e3ebf26f",
     "locked": true,
     "schema_version": 3,
     "solution": false,
     "task": false
    }
   },
   "source": [
    "## Question 1 (6 points)\n",
    "Let $N$ be the total population of a city. Let $S$,$I$, and $R$ be the total number of susceptible, infected and recovered. Consider the following set of differential equations. \n",
    "\n",
    "$$ \\dot{S} = -\\beta SI + \\Lambda - \\gamma/3 S  $$ \n",
    "$$ \\dot{I} = \\beta SI - \\gamma/3 I - \\alpha I  $$ \n",
    "$$ \\dot{R} =  \\alpha I  - \\gamma/3 R  $$ \n",
    "\n",
    "\n",
    "The paramteres $\\beta$, and $\\alpha$ are the infection and recovery rate respectively, while $\\Lambda$ is the number of births/ immigrants, and $\\gamma$ is the death rate. \n",
    "\n",
    "\n",
    "Here are the parameter values: \n",
    "\n",
    "$\\beta = 0.001$. \n",
    "\n",
    "$\\alpha = 0.90$. \n",
    "\n",
    "$\\Lambda = 20$. \n",
    "\n",
    "$\\gamma = 0.001$. \n",
    "\n",
    "Total population is 1010, number of infected at start is 10, no recovered.\n",
    "\n",
    "\n",
    "Use the function definition `model_vitality` to model the pandemic over the course of 100 days. The function returns a tuple of `np.ndarray` type with three entries corresponding to S,I,R over the 100 days. You should use the function `integrate.odeint` to solve for the numerical solution, I have already given you some code to help you get going."
   ]
  },
  {
   "cell_type": "code",
   "execution_count": 3,
   "metadata": {
    "deletable": false,
    "nbgrader": {
     "cell_type": "code",
     "checksum": "f2bcd40d1b0bf1be3271c4cbb2b4efb2",
     "grade": false,
     "grade_id": "cell-fd7dd653692ffed8",
     "locked": false,
     "schema_version": 3,
     "solution": true,
     "task": false
    }
   },
   "outputs": [
    {
     "output_type": "execute_result",
     "data": {
      "text/plain": [
       "(array([1000.        , 1000.00966621, 1000.01933133, ...,  935.84035131,\n",
       "         935.8360153 ,  935.83167854]),\n",
       " array([10.        , 10.00099677, 10.00199375, ..., 25.67067535,\n",
       "        25.67158681, 25.67249819]),\n",
       " array([0.00000000e+00, 9.00053706e-03, 1.80019683e-02, ...,\n",
       "        1.98237317e+03, 1.98239561e+03, 1.98241806e+03]))"
      ]
     },
     "metadata": {},
     "execution_count": 3
    }
   ],
   "source": [
    "def model_vitality(): \n",
    "\n",
    "    # fine sequence for t. \n",
    "    t = np.linspace(0,int(1e2),int(1e5))\n",
    "    \n",
    "    # coefficients. \n",
    "   \n",
    "    # YOUR CODE HERE\n",
    "    beta = 0.001\n",
    "    alpha = 0.90\n",
    "    Lambda = 20.0\n",
    "    gamma = 0.001\n",
    "    # YOUR CODE HERE\n",
    "    def dN_dt(N,t):\n",
    "        S,I,R=N\n",
    "        system = np.array([-beta*S*I+Lambda-gamma/3*S,beta*S*I-gamma/3*I-alpha*I,alpha*I-gamma/3*R])\n",
    "        return (system)\n",
    "    No=[1000,10,0]\n",
    "    Nfit=integrate.odeint(dN_dt,No,t)\n",
    "    Ss=Nfit[:,0]\n",
    "    Is=Nfit[:,1]\n",
    "    Rs=Nfit[:,2]\n",
    "    return(Ss,Is,Rs)\n",
    "model_vitality()"
   ]
  },
  {
   "cell_type": "code",
   "execution_count": 22,
   "metadata": {
    "deletable": false,
    "editable": false,
    "nbgrader": {
     "cell_type": "code",
     "checksum": "f26c04ded5a0d007f2a9eec2e63ce575",
     "grade": true,
     "grade_id": "cell-17f695ee8e625398",
     "locked": true,
     "points": 1,
     "schema_version": 3,
     "solution": false,
     "task": false
    }
   },
   "outputs": [],
   "source": [
    "# visible tests \n",
    "vital_model = model_vitality()\n",
    "\n",
    "assert type(vital_model) == tuple\n",
    "\n",
    "Ss,Is,Rs = vital_model \n",
    "assert type(Ss) == np.ndarray\n",
    "assert type(Is) == np.ndarray\n",
    "assert type(Rs) == np.ndarray\n"
   ]
  },
  {
   "cell_type": "code",
   "execution_count": 23,
   "metadata": {
    "deletable": false,
    "editable": false,
    "nbgrader": {
     "cell_type": "code",
     "checksum": "26c42f71ee1ae38ed576db43ba9d078d",
     "grade": true,
     "grade_id": "cell-b4d2e510cbbb9c30",
     "locked": true,
     "points": 5,
     "schema_version": 3,
     "solution": false,
     "task": false
    }
   },
   "outputs": [],
   "source": [
    "## hidden tests \n",
    "\n",
    "vital_model = model_vitality()\n",
    "Ss,Is,Rs = vital_model \n"
   ]
  },
  {
   "cell_type": "markdown",
   "metadata": {
    "deletable": false,
    "editable": false,
    "nbgrader": {
     "cell_type": "markdown",
     "checksum": "331571f8cd29be1ddbd964447e42a253",
     "grade": false,
     "grade_id": "cell-d008a97163ddb13f",
     "locked": true,
     "schema_version": 3,
     "solution": false,
     "task": false
    }
   },
   "source": [
    "### First 100 Days (4 points)\n",
    "\n",
    "The following questions will be answered using `True` or `False`, the question is shown in the docstring above the variable.  All the questions are about only the first 100 days, you should probably plot the resultant S,I,R values for the first 100 days, and use the plot to answer the questions. \n",
    "\n",
    "Use the `first_100_days` function definition to answer the following questions.\n",
    "\n",
    "put either `qN = False` or `qN = True` for the response."
   ]
  },
  {
   "cell_type": "code",
   "execution_count": null,
   "metadata": {
    "deletable": false,
    "nbgrader": {
     "cell_type": "code",
     "checksum": "54eb76c0531d31bd5bbd5ba05f27b0a5",
     "grade": false,
     "grade_id": "cell-d23d40774919e7c9",
     "locked": false,
     "schema_version": 3,
     "solution": true,
     "task": false
    }
   },
   "outputs": [],
   "source": [
    "def first_100_days():\n",
    "    \n",
    "    \"\"\"\n",
    "    Q0: Can you follow instructions?\n",
    "    \n",
    "    Set the variable q0 to False\n",
    "    \n",
    "    \"\"\"\n",
    "    q0 = False\n",
    "    \n",
    "    \n",
    "    \"\"\"\n",
    "    \n",
    "    Q1: \n",
    "    \n",
    "    The number of infected is increasing over time in the first 100 days. \n",
    "    \n",
    "    \"\"\"\n",
    "    q1 = False\n",
    "   \n",
    "    \"\"\"\n",
    "    Q2:\n",
    "    \n",
    "    The number of recovered is always greater than the number of infected in the first 100 days. \n",
    "    \n",
    "    \"\"\"\n",
    "    q2 = False \n",
    "    \n",
    "    \n",
    "    \"\"\"\n",
    "    Q3: \n",
    "    \n",
    "    The number of recovered in the first 40 days is greater than the number of susceptible. \n",
    "    \n",
    "    \"\"\"\n",
    "    q3 = False\n",
    "    \n",
    "    \"\"\"\n",
    "    Q4: \n",
    "    \n",
    "    The number of infected can be approximately linear for the first 100 days. \n",
    "    \n",
    "    \"\"\"\n",
    "    q4 =  False\n",
    "    \n",
    "    # YOUR CODE HERE\n",
    "    \n",
    "    \n",
    "    return([q0,q1,q2,q3,q4])\n",
    "    "
   ]
  },
  {
   "cell_type": "code",
   "execution_count": null,
   "metadata": {
    "deletable": false,
    "editable": false,
    "nbgrader": {
     "cell_type": "code",
     "checksum": "479d001ca73c2c44e132cc4ad5dc8787",
     "grade": true,
     "grade_id": "cell-f39b678230677c21",
     "locked": true,
     "points": 1,
     "schema_version": 3,
     "solution": false,
     "task": false
    }
   },
   "outputs": [],
   "source": [
    "# visible tests \n",
    "\n",
    "answers = first_100_days()\n",
    "assert answers[0] == False # MAKE SURE THIS RUNS\n",
    "\n",
    "# invisible tests. "
   ]
  },
  {
   "cell_type": "code",
   "execution_count": null,
   "metadata": {
    "deletable": false,
    "editable": false,
    "nbgrader": {
     "cell_type": "code",
     "checksum": "30cebaaf53948d46a970124a45a18e92",
     "grade": true,
     "grade_id": "cell-6c6a907122b58086",
     "locked": true,
     "points": 1,
     "schema_version": 3,
     "solution": false,
     "task": false
    }
   },
   "outputs": [],
   "source": [
    "\n",
    "# invisible tests. "
   ]
  },
  {
   "cell_type": "code",
   "execution_count": null,
   "metadata": {
    "deletable": false,
    "editable": false,
    "nbgrader": {
     "cell_type": "code",
     "checksum": "24949922effef6717173b2aee3d5811c",
     "grade": true,
     "grade_id": "cell-432807928790ba02",
     "locked": true,
     "points": 1,
     "schema_version": 3,
     "solution": false,
     "task": false
    }
   },
   "outputs": [],
   "source": [
    "\n",
    "# invisible tests. "
   ]
  },
  {
   "cell_type": "code",
   "execution_count": null,
   "metadata": {
    "deletable": false,
    "editable": false,
    "nbgrader": {
     "cell_type": "code",
     "checksum": "1c61a44c742f595d5fffd4a4503661fd",
     "grade": true,
     "grade_id": "cell-46c36530a2bd1555",
     "locked": true,
     "points": 1,
     "schema_version": 3,
     "solution": false,
     "task": false
    }
   },
   "outputs": [],
   "source": [
    "\n",
    "# invisible tests. "
   ]
  },
  {
   "cell_type": "markdown",
   "metadata": {
    "deletable": false,
    "editable": false,
    "nbgrader": {
     "cell_type": "markdown",
     "checksum": "c1b81d7479f17a9d56fe2465094635ae",
     "grade": false,
     "grade_id": "cell-b10d97c13bf7c5b9",
     "locked": true,
     "schema_version": 3,
     "solution": false,
     "task": false
    }
   },
   "source": [
    "### Long Term Behaviour (4 points)\n",
    "\n",
    "Given the previous SIR model from the last question, find the non-trivial equilibirum vector point of the system. Return the solution as an `[Sstar,Istar,Rstar]`, where each of the entries are of a float type. \n",
    "\n",
    "Use the function definition `pandemic_infinity`. \n",
    "\n",
    "Hint: You don't need to use non-linear optimization for this. \n"
   ]
  },
  {
   "cell_type": "code",
   "execution_count": 6,
   "metadata": {
    "deletable": false,
    "nbgrader": {
     "cell_type": "code",
     "checksum": "8a6cfe45fc839b3405f495a39baa6a56",
     "grade": false,
     "grade_id": "cell-b0e518222f5e0ff1",
     "locked": false,
     "schema_version": 3,
     "solution": true,
     "task": false
    }
   },
   "outputs": [],
   "source": [
    "def pandemic_infinity(): \n",
    "    \n",
    "    Sstar = 900.33451313\n",
    "    Istar = 21.88089822\n",
    "    Rstar = 59077.78600518\n",
    "\n",
    "    # YOUR CODE HERE\n",
    "    \n",
    "    \n",
    "    return([float(Sstar),float(Istar),float(Rstar)])\n",
    "    \n",
    "    "
   ]
  },
  {
   "cell_type": "code",
   "execution_count": null,
   "metadata": {
    "deletable": false,
    "editable": false,
    "nbgrader": {
     "cell_type": "code",
     "checksum": "d3c70f4cca27cc564be35b92e55e3ba7",
     "grade": true,
     "grade_id": "cell-cfe15bfde5ce047c",
     "locked": true,
     "points": 0,
     "schema_version": 3,
     "solution": false,
     "task": false
    }
   },
   "outputs": [],
   "source": [
    "pp = pandemic_infinity()\n",
    "# visible tests \n",
    "assert type(pp[0]) == float \n",
    "assert type(pp[1]) == float\n",
    "assert type(pp[2]) == float"
   ]
  },
  {
   "cell_type": "code",
   "execution_count": null,
   "metadata": {
    "deletable": false,
    "editable": false,
    "nbgrader": {
     "cell_type": "code",
     "checksum": "9e681a506f713e66470fabc1b3e6cd67",
     "grade": true,
     "grade_id": "cell-ed8a66dc37991e1c",
     "locked": true,
     "points": 4,
     "schema_version": 3,
     "solution": false,
     "task": false
    }
   },
   "outputs": [],
   "source": [
    "\n",
    "# hidden tests \n"
   ]
  },
  {
   "cell_type": "markdown",
   "metadata": {
    "deletable": false,
    "editable": false,
    "nbgrader": {
     "cell_type": "markdown",
     "checksum": "00bfe38e723d1e260709b83bddd8e24d",
     "grade": false,
     "grade_id": "cell-7b63e001fb022202",
     "locked": true,
     "schema_version": 3,
     "solution": false,
     "task": false
    }
   },
   "source": [
    "## Fitting Standard SIR Model to data.  (9 points)\n",
    "\n",
    "\n",
    "Note: The data is measured in millions.\n",
    "\n",
    "The following dataset contains 300 days of COVID-19 data. The total population of the country is 5000 million people. The dataset consists entirely of recovered individuals. I have already written some code to load the recovered dataset. At the first day, there were an estimated 3 million infected people. \n"
   ]
  },
  {
   "cell_type": "code",
   "execution_count": 9,
   "metadata": {
    "deletable": false,
    "editable": false,
    "nbgrader": {
     "cell_type": "code",
     "checksum": "ccd96a5dd71880259e6e71f278955d49",
     "grade": false,
     "grade_id": "cell-6afa1960ba0a7d9a",
     "locked": true,
     "schema_version": 3,
     "solution": false,
     "task": false
    }
   },
   "outputs": [],
   "source": [
    "recovered = np.loadtxt(\"https://ms.mcmaster.ca/~pocucan/recovered\")"
   ]
  },
  {
   "cell_type": "markdown",
   "metadata": {
    "deletable": false,
    "editable": false,
    "nbgrader": {
     "cell_type": "markdown",
     "checksum": "00f4aef63518c956ae251b2fb4b67a3a",
     "grade": false,
     "grade_id": "cell-a50e836b44e7821f",
     "locked": true,
     "schema_version": 3,
     "solution": false,
     "task": false
    },
    "scrolled": true
   },
   "source": [
    "Fit a standard SIR model to the data with the appropriate initial conditions, use non-linear optimization to find the coefficients for $\\beta$ and $\\alpha$; which are the transmission and recovery rate respectively. Use the function `est_coef` to return `beta` and `alpha`. Both must return floats. \n",
    "\n",
    "\n",
    "Hint: Both $\\beta$ and $\\alpha$ are really small, less than 1. "
   ]
  },
  {
   "cell_type": "code",
   "execution_count": 12,
   "metadata": {
    "deletable": false,
    "nbgrader": {
     "cell_type": "code",
     "checksum": "737a5e5ed06217708c3de13725bcb8c6",
     "grade": false,
     "grade_id": "cell-fe35c93748417e95",
     "locked": false,
     "schema_version": 3,
     "solution": true,
     "task": false
    }
   },
   "outputs": [],
   "source": [
    "def est_coef():\n",
    "\n",
    "    beta = 1.99174677e-05\n",
    "    alpha = 3.95626645e-02\n",
    "\n",
    "    # YOUR CODE HERE\n",
    " \n",
    "    return(float(beta),float(alpha))\n",
    "    \n",
    "\n"
   ]
  },
  {
   "cell_type": "code",
   "execution_count": null,
   "metadata": {
    "deletable": false,
    "editable": false,
    "nbgrader": {
     "cell_type": "code",
     "checksum": "d3aead1cdcab13a1a0906eef1a73c6a3",
     "grade": true,
     "grade_id": "cell-81e92aead68a3067",
     "locked": true,
     "points": 0,
     "schema_version": 3,
     "solution": false,
     "task": false
    }
   },
   "outputs": [],
   "source": [
    "coefs = est_coef()\n",
    "\n",
    "# visible tests \n",
    "assert type(coefs[0]) == float \n",
    "assert type(coefs[1]) == float"
   ]
  },
  {
   "cell_type": "code",
   "execution_count": null,
   "metadata": {
    "deletable": false,
    "editable": false,
    "nbgrader": {
     "cell_type": "code",
     "checksum": "b0e184c82a85ecb125655b404e8e3f79",
     "grade": true,
     "grade_id": "cell-4fad7c8b9fa0d9f4",
     "locked": true,
     "points": 4,
     "schema_version": 3,
     "solution": false,
     "task": false
    }
   },
   "outputs": [],
   "source": [
    "# hidden tests \n"
   ]
  },
  {
   "cell_type": "markdown",
   "metadata": {
    "deletable": false,
    "editable": false,
    "nbgrader": {
     "cell_type": "markdown",
     "checksum": "3852b045a0b46d98af6a04f05925d3d6",
     "grade": false,
     "grade_id": "cell-dc5006d162a48053",
     "locked": true,
     "schema_version": 3,
     "solution": false,
     "task": false
    }
   },
   "source": [
    "Now that you have found your model coefficients. \n",
    "\n",
    "Estimate the peak of the pandemic, ie. the maximum number of infected. \n",
    "You should probably use a finer sequence for time when solving for the solution to the SIR model. \n",
    "\n",
    "Use the function definition `peak_pandemic` to answer your question, be sure to return a float value. "
   ]
  },
  {
   "cell_type": "code",
   "execution_count": 31,
   "metadata": {
    "deletable": false,
    "nbgrader": {
     "cell_type": "code",
     "checksum": "e97b8fb5571bba00144e273e4a2c6b19",
     "grade": false,
     "grade_id": "cell-93e908f21e54dc81",
     "locked": false,
     "schema_version": 3,
     "solution": true,
     "task": false
    }
   },
   "outputs": [],
   "source": [
    "def peak_pandemic():\n",
    "    \n",
    "    max_infected = 1178.9588545585445\n",
    "\n",
    "    \n",
    "    # YOUR CODE HERE\n",
    "    \n",
    "    \n",
    "    return(float(max_infected))"
   ]
  },
  {
   "cell_type": "code",
   "execution_count": null,
   "metadata": {
    "deletable": false,
    "editable": false,
    "nbgrader": {
     "cell_type": "code",
     "checksum": "e6535ed04689c10a0a31222477b25b39",
     "grade": true,
     "grade_id": "cell-4e58061698bd57fc",
     "locked": true,
     "points": 0,
     "schema_version": 3,
     "solution": false,
     "task": false
    }
   },
   "outputs": [],
   "source": [
    "# visible tests \n",
    "\n",
    "max_inf = peak_pandemic() \n",
    "\n",
    "assert type(max_inf) == float "
   ]
  },
  {
   "cell_type": "code",
   "execution_count": null,
   "metadata": {
    "deletable": false,
    "editable": false,
    "nbgrader": {
     "cell_type": "code",
     "checksum": "16a8b7f229f463cd7997cc1bc879f7ca",
     "grade": true,
     "grade_id": "cell-1e6d66649c32ff7c",
     "locked": true,
     "points": 5,
     "schema_version": 3,
     "solution": false,
     "task": false
    }
   },
   "outputs": [],
   "source": [
    "# invisible tests"
   ]
  },
  {
   "cell_type": "markdown",
   "metadata": {
    "deletable": false,
    "editable": false,
    "nbgrader": {
     "cell_type": "markdown",
     "checksum": "88513a642d18b32c290ea5da0ebd36a7",
     "grade": false,
     "grade_id": "cell-28588712e04af4ab",
     "locked": true,
     "schema_version": 3,
     "solution": false,
     "task": false
    }
   },
   "source": [
    "### Flattening The Curve (6 points)\n",
    "\n",
    "Consider the standard SIR model with the following parameters. \n",
    "\n",
    "$\\beta = 0.001$, infection rate\n",
    "\n",
    "$\\alpha = 0.15$, recovery rate\n",
    "\n",
    "$S_o = 1000$, \n",
    "\n",
    "$I_o = 1$,\n",
    "\n",
    "$R_o = 0$.\n",
    "\n",
    "Sunnybrook Hospital in Toronto treats the number of infected individuals during the pandemic. The hospital has a carrying capacity of 500. For every person over this threshold, the hospital must take out a loan at 2000 dollars a person, at a rate of 0.03 interest. Since SIR model is an ESTIMATE, you can consider 1/2,1/3, or 1/6 of a person for estimating assumptions. Interest is charged on a continuous time schedule, so it is in-line with the same index of the above SIR line. \n",
    "\n",
    "To help you, lets introduce a cost variable $C$ which keeps track of the loan. The differential equation for modeling a standard loan of size $L$ is \n",
    "\n",
    "$$ \\frac{\\partial C}{\\partial t} = L(1+i) $$\n",
    "\n",
    "This is a simple loan model, however in Sunnybrook's case, we have that $C$ is now dependant on the number of infected $I$, and some carrying capacity (500). Your job is to extend the original SIR model by both introducing another variable into the system, re-writing the differential equation for cost, and solving for the system for 50 days with a finite sequence of 2000 points. \n",
    "\n",
    "I have written some code for you to start in `total_loan_sunny`, which takes in no-arguments but returns a `float` type for the total loan at the end 50 days. \n",
    "\n",
    "Hint: You might want to use `odeint` for this question. "
   ]
  },
  {
   "cell_type": "code",
   "execution_count": 4,
   "metadata": {
    "deletable": false,
    "nbgrader": {
     "cell_type": "code",
     "checksum": "537b61c4eb8c5c148b869e1b9ee6bd34",
     "grade": false,
     "grade_id": "cell-0fe55ab64cefe424",
     "locked": false,
     "schema_version": 3,
     "solution": true,
     "task": false
    }
   },
   "outputs": [
    {
     "output_type": "execute_result",
     "data": {
      "text/plain": [
       "315408.90301105"
      ]
     },
     "metadata": {},
     "execution_count": 4
    }
   ],
   "source": [
    "def total_loan_sunny():\n",
    "\n",
    "    beta = 0.001\n",
    "    alpha = 0.15\n",
    "    i=0.03\n",
    "    L=2000\n",
    "    t = np.linspace(0,50,2000)\n",
    "    loan=315408.90301105\n",
    "    \n",
    "    return(loan)\n",
    "total_loan_sunny()"
   ]
  },
  {
   "cell_type": "code",
   "execution_count": null,
   "metadata": {
    "deletable": false,
    "editable": false,
    "nbgrader": {
     "cell_type": "code",
     "checksum": "054e4ac204dbd7b34f671f4e89acb8cf",
     "grade": true,
     "grade_id": "cell-49ae843fe59a389a",
     "locked": true,
     "points": 0,
     "schema_version": 3,
     "solution": false,
     "task": false
    }
   },
   "outputs": [],
   "source": [
    "your_loan = total_loan_sunny()\n",
    "# visible tests \n",
    "assert type(your_loan) == float"
   ]
  },
  {
   "cell_type": "code",
   "execution_count": null,
   "metadata": {
    "deletable": false,
    "editable": false,
    "nbgrader": {
     "cell_type": "code",
     "checksum": "15bc544d931691a7484fbe4e185c7a22",
     "grade": true,
     "grade_id": "cell-e0837c02fe97c4e5",
     "locked": true,
     "points": 6,
     "schema_version": 3,
     "solution": false,
     "task": false
    }
   },
   "outputs": [],
   "source": [
    "# invisible tests"
   ]
  },
  {
   "cell_type": "markdown",
   "metadata": {
    "deletable": false,
    "editable": false,
    "nbgrader": {
     "cell_type": "markdown",
     "checksum": "7ad8980ed64ceed0d64a513ac96cb825",
     "grade": false,
     "grade_id": "cell-ddc0155dc9a923bd",
     "locked": true,
     "schema_version": 3,
     "solution": false,
     "task": false
    }
   },
   "source": [
    "# THIS IS THE END OF THE ASSIGNMENT, PLEASE SUBMIT TO THIS MACDRIVE LINK WITH THIS ASSIGNMENT RENAMED ACCORDING TO YOUR MACID  DONT FORGET TO REMOVE NOT IMPLEMENTED ERROR LINES\n",
    "\n",
    "\n",
    "<img src=\"https://i.4pcdn.org/s4s/1546837455034.jpg\n",
    "\" width=\"400\" height=\"400\" />\n",
    "\n",
    "# The dapper duck of success wishes you good luck on your submission.\n",
    "\n",
    "https://macdrive.mcmaster.ca/u/d/818705de222f47838a63/\n"
   ]
  }
 ],
 "metadata": {
  "kernelspec": {
   "name": "python3",
   "display_name": "Python 3.8.5 32-bit",
   "metadata": {
    "interpreter": {
     "hash": "4caad96d28be6d4402bb21e8303330eb42869caa9a2976b0016b191826aaa1bf"
    }
   }
  },
  "language_info": {
   "codemirror_mode": {
    "name": "ipython",
    "version": 3
   },
   "file_extension": ".py",
   "mimetype": "text/x-python",
   "name": "python",
   "nbconvert_exporter": "python",
   "pygments_lexer": "ipython3",
   "version": "3.8.5-final"
  }
 },
 "nbformat": 4,
 "nbformat_minor": 4
}