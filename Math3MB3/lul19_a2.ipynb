{
 "cells": [
  {
   "cell_type": "markdown",
   "metadata": {},
   "source": [
    "Before you turn this problem in, make sure everything runs as expected. First, **restart the kernel** (in the menubar, select Kernel$\\rightarrow$Restart) and then **run all cells** (in the menubar, select Cell$\\rightarrow$Run All).\n",
    "\n",
    "Make sure you fill in any place that says `YOUR CODE HERE` or \"YOUR ANSWER HERE\", as well as your name and collaborators below:"
   ]
  },
  {
   "cell_type": "code",
   "execution_count": 1,
   "metadata": {},
   "outputs": [],
   "source": [
    "NAME = \"Ling Lu\"\n",
    "COLLABORATORS = \"\""
   ]
  },
  {
   "cell_type": "markdown",
   "metadata": {},
   "source": [
    "---"
   ]
  },
  {
   "cell_type": "markdown",
   "metadata": {
    "deletable": false,
    "editable": false,
    "nbgrader": {
     "cell_type": "markdown",
     "checksum": "a617227e1ecd3e768573e459ad759919",
     "grade": false,
     "grade_id": "cell-885db7fd7316b46d",
     "locked": true,
     "schema_version": 3,
     "solution": false,
     "task": false
    }
   },
   "source": [
    "# Homework 2\n",
    "\n",
    "Submit your assignment as a Jupyter notebook file called `macid_hw2.ipynb`, where `macid` is replaced with your MacID from your McMaster email address. (For example: since my McMaster email address is pocucan@mcmaster.ca, I would submit a file called `pocucan_hw2.ipynb`.) Submit this file to the appropriate MacDrive link by \n",
    "\n",
    "\n",
    "To complete your assignment, edit the function definitions in this template (then rename the file appropriately, as above). (Don't forget to use appropriate `return()` statements in your functions!) **Do not alter any other part of this template.**\n",
    "\n",
    "While developing and testing your code, it might be helpful to use\n",
    "`print` statements, but please remove them before submitting your solution. The template contains several `assert` statements that when executed will test your code.\n",
    "\n",
    "Any file submitted for grading that does not conform to the specifications above will lead to a grade of zero on the assignment.\n",
    "\n",
    "Before submitting your solution, you should make sure that it runs properly. To do this, you can open it in the Jupyter notebook server that comes installed with Anaconda, or you can use the McMaster Jupyter server, by going to the website https://mcmaster.syzygy.ca/. (Try running `Kernel > Restart & Run all` from the menu to run all of your code from scratch and make sure nothing is left out.) Feel free to use the Spyder IDE, or some other IDE, to develop your code before entering it into the Jupyter notebook that you submit.\n",
    "\n",
    "Your grade for each question will depend on whether or not your code correctly handles not just the test cases provided in the template, but other test cases that will be run on your solutions.\n",
    "\n",
    "Do not leave this assignment until the last minute; last-minute computer/internet issues on your part are your problem, not ours ...\n",
    "\n",
    "Late assignments will be penalized 25% per day.\n",
    "\n",
    "All work submitted for grading must be your own. You may discuss homework problems and related material with other students, but you must not submit work copied from others or from the internet.  If you use any internet resources for help, you **must** list them as comments (##) in your answer. \n",
    "\n",
    "Do not copy code from any other students, this is the fastest way for me to give you a 0. "
   ]
  },
  {
   "cell_type": "markdown",
   "metadata": {
    "deletable": false,
    "editable": false,
    "nbgrader": {
     "cell_type": "markdown",
     "checksum": "30a0c9325c6da62139cbd88288b1f6b7",
     "grade": false,
     "grade_id": "cell-05ebe7241e1f0144",
     "locked": true,
     "schema_version": 3,
     "solution": false,
     "task": false
    }
   },
   "source": [
    "### REMOVE ALL raise NotImplemented() lines from your code!"
   ]
  },
  {
   "cell_type": "markdown",
   "metadata": {
    "deletable": false,
    "editable": false,
    "nbgrader": {
     "cell_type": "markdown",
     "checksum": "867740c55428ab2c2ac4f80b82d51edd",
     "grade": false,
     "grade_id": "cell-f9cf8a3f10c8c581",
     "locked": true,
     "schema_version": 3,
     "solution": false,
     "task": false
    }
   },
   "source": [
    "### REMOVE ALL raise NotImplemented() lines from your code!"
   ]
  },
  {
   "cell_type": "code",
   "execution_count": 2,
   "metadata": {
    "deletable": false,
    "editable": false,
    "nbgrader": {
     "cell_type": "code",
     "checksum": "a591614e8a5bfbe9261488ce59746d09",
     "grade": false,
     "grade_id": "cell-b6a69953ea274340",
     "locked": true,
     "schema_version": 3,
     "solution": false,
     "task": false
    }
   },
   "outputs": [],
   "source": [
    "import numpy as np # import numpy module \n",
    "import matplotlib.pyplot as pyplot # import pyplot module \n",
    "from scipy import optimize as optimize # non linear function "
   ]
  },
  {
   "cell_type": "markdown",
   "metadata": {
    "deletable": false,
    "editable": false,
    "nbgrader": {
     "cell_type": "markdown",
     "checksum": "f27eab47e036eff6eb5b4707b708f070",
     "grade": false,
     "grade_id": "cell-f7015b19a80b3c3d",
     "locked": true,
     "schema_version": 3,
     "solution": false,
     "task": false
    }
   },
   "source": [
    "## 1. Analysis on Linear Discrete Systems (4 points)\n",
    "\n",
    "\n",
    "<img src=\"https://static.fjcdn.com/pictures/Bunny_17cbfa_2365519.jpg\n",
    "\" width=\"400\" height=\"400\" />\n",
    "\n",
    "\n",
    "\n",
    "The following system is based on a modified version of decrete lotka voltera equations. Let $r$ and $w$ represent the rabbit and wolf population. The discrete system is provided as follows: \n",
    "\n",
    "$$ r^{(t)} = -0.92171773 w^{(t-1)} + 1.790010625  r^{(t-1)}$$\n",
    "\n",
    "$$ w^{(t)} = 1.29798624 r^{(t-1)} - 0.51438081 w^{(t-1)} $$\n",
    "\n",
    "Find the non-trivial equilibrium point of this system, and provide it is as a vector `answer` as a `(2,1)` matrix. "
   ]
  },
  {
   "cell_type": "code",
   "execution_count": 3,
   "metadata": {
    "deletable": false,
    "nbgrader": {
     "cell_type": "code",
     "checksum": "e07c218f8440dcc53f4be2aa6a3b015a",
     "grade": false,
     "grade_id": "cell-4a9fa656af9f8620",
     "locked": false,
     "schema_version": 3,
     "solution": true,
     "task": false
    }
   },
   "outputs": [
    {
     "output_type": "execute_result",
     "data": {
      "text/plain": [
       "matrix([[0.75927009],\n",
       "        [0.65077563]])"
      ]
     },
     "metadata": {},
     "execution_count": 3
    }
   ],
   "source": [
    "def question_1():\n",
    "    # YOUR CODE HERE\n",
    "    A=np.matrix([1.790010625,-0.92171773,1.29798624,-0.51438081]).reshape((2,2))\n",
    "    AP=A/np.linalg.eig(A)[0][0]\n",
    "    v=np.linalg.eig(AP)[1][:,0].reshape(2,1)\n",
    "    AP=np.matrix(AP)\n",
    "    answer=AP*v\n",
    "    return(answer)\n",
    "question_1()"
   ]
  },
  {
   "cell_type": "code",
   "execution_count": 4,
   "metadata": {
    "deletable": false,
    "editable": false,
    "nbgrader": {
     "cell_type": "code",
     "checksum": "c1e64a4bf5a37dee1010c1d843dff802",
     "grade": true,
     "grade_id": "cell-d69e0412a663cee5",
     "locked": true,
     "points": 4,
     "schema_version": 3,
     "solution": false,
     "task": false
    }
   },
   "outputs": [],
   "source": [
    "# sanity checks \n",
    "assert type(question_1()) == np.matrix # check to make sure the output is a type \n",
    "assert question_1().shape == (2,1) # check to make sure of shape\n",
    "\n",
    "# hidden tests beware"
   ]
  },
  {
   "cell_type": "markdown",
   "metadata": {
    "deletable": false,
    "editable": false,
    "nbgrader": {
     "cell_type": "markdown",
     "checksum": "12d682de862ba1e64cba3add41350d1e",
     "grade": false,
     "grade_id": "cell-f67fb9c4f31533bc",
     "locked": true,
     "schema_version": 3,
     "solution": false,
     "task": false
    }
   },
   "source": [
    "## 2. Analysis on Non-Linear Discrete Systems (4 points)\n",
    "\n",
    "<img src=\"https://media.npr.org/assets/img/2017/06/03/gettyimages-453879976-59801bc8f1f6bda5175c3098bb0d9a28696394be.jpg\" width=\"400\" height=\"400\" />\n",
    "\n",
    "\n",
    "\n",
    "We are tracking a giant rubber ducks position on longitude and latitude coordinate system. Let $x^{(t)}$ and $y^{(t)}$ denote the position at time $t$. The position is given by the following non-linear discrete system. \n",
    "\n",
    "\n",
    "$$ x^{(t+1)} = x^{(t)} +  1.9x^{(t)}(1 -  x^{(t)}) -  x^{(t)} y^{(t)} $$\n",
    "\n",
    "$$ y^{(t+1)} = y^{(t)} +  1.9y^{(t)}(1 -  y^{(t)}) -  x^{(t)} y^{(t)} $$\n",
    "\n",
    "\n",
    "\n",
    "Find the single equilibrium point of this system, where both $x^\\star$ and $y^\\star$ are greater than 0, and provide it is as a vector `answer` as a `(2,1)` matrix."
   ]
  },
  {
   "cell_type": "code",
   "execution_count": 5,
   "metadata": {
    "deletable": false,
    "nbgrader": {
     "cell_type": "code",
     "checksum": "ec75e52cb8a66dc58a0984fa3793b16f",
     "grade": false,
     "grade_id": "cell-7b6afa47fa9a35f3",
     "locked": false,
     "schema_version": 3,
     "solution": true,
     "task": false
    }
   },
   "outputs": [
    {
     "output_type": "execute_result",
     "data": {
      "text/plain": [
       "matrix([[0.65517241],\n",
       "        [0.65517241]])"
      ]
     },
     "metadata": {},
     "execution_count": 5
    }
   ],
   "source": [
    "\n",
    "def question_2():\n",
    "    \"\"\"\n",
    "    Find equilibrium point of the homing pigeon system.\n",
    "    \n",
    "    Return it as a (2,1) np.matrix type. \n",
    "    \n",
    "    \"\"\"\n",
    "    \n",
    "    # YOUR CODE HERE\n",
    "    def b(x):\n",
    "        output=np.matrix(np.zeros((2,1)))\n",
    "        output[0,0]=x[0,0]+1.9*x[0,0]*(1-x[0,0])-x[0,0]*x[1,0]\n",
    "        output[1,0]=x[1,0]+1.9*x[1,0]*(1-x[1,0])-x[0,0]*x[1,0]\n",
    "        return(output)\n",
    "    def ff(x):\n",
    "        return(-x + b(x))\n",
    "    def wrapper_ff(x):\n",
    "        x=np.matrix(x).reshape((2,1))\n",
    "        output=ff(x)\n",
    "        return(np.array(output).reshape((2,)))\n",
    "    ic = np.matrix([1,2]).reshape((2,1))\n",
    "    results = optimize.root(wrapper_ff,ic)\n",
    "    answer = np.matrix(results.x).reshape((2,1))\n",
    "    return(answer)\n",
    "question_2()"
   ]
  },
  {
   "cell_type": "code",
   "execution_count": 6,
   "metadata": {
    "deletable": false,
    "editable": false,
    "nbgrader": {
     "cell_type": "code",
     "checksum": "af1b9255f40182b5e2f4e5d5817c8bc8",
     "grade": true,
     "grade_id": "cell-9bb0a0d8567834be",
     "locked": true,
     "points": 4,
     "schema_version": 3,
     "solution": false,
     "task": false
    }
   },
   "outputs": [],
   "source": [
    "# sanity checks make sure these run \n",
    "assert type(question_2()) == np.matrix # make sure type is correct\n",
    "assert question_2().shape == (2,1) # make sure shape is correct\n",
    "assert question_2()[0] > 0 \n",
    "assert question_2()[1] > 0 # make sure both points are greater than 0 \n",
    "\n",
    "# hidden tests beware. "
   ]
  },
  {
   "cell_type": "code",
   "execution_count": 7,
   "metadata": {
    "deletable": false,
    "nbgrader": {
     "cell_type": "code",
     "checksum": "149f45f2bcb5cb84e93c365a7749b161",
     "grade": false,
     "grade_id": "cell-465c633c0f44252e",
     "locked": false,
     "schema_version": 3,
     "solution": true,
     "task": false
    }
   },
   "outputs": [],
   "source": [
    "def question_21():\n",
    "    \"\"\"\n",
    "    (2 points)\n",
    "    \n",
    "    Which type of equilibirum point did you find in the last question? (see choices below) \n",
    "    \n",
    "    answer = \"A\" # stable \n",
    "    \n",
    "    answer = \"B\" # lyapunov stable\n",
    "    \n",
    "    answer = \"C\" # unstable\n",
    "    \n",
    "    \"\"\"\n",
    "    \n",
    "    # YOUR CODE HERE\n",
    "    answer = \"A\"\n",
    "    return(answer)\n",
    "    "
   ]
  },
  {
   "cell_type": "code",
   "execution_count": 8,
   "metadata": {
    "deletable": false,
    "editable": false,
    "nbgrader": {
     "cell_type": "code",
     "checksum": "4bf1f20b75e8d2e6785e53ebb7fdc4f2",
     "grade": true,
     "grade_id": "cell-e9eb91de23df7429",
     "locked": true,
     "points": 2,
     "schema_version": 3,
     "solution": false,
     "task": false
    }
   },
   "outputs": [],
   "source": [
    "\n",
    "# some sanity checks, make sure these run\n",
    "assert type(question_21()) == str # make sure result is a string\n",
    "assert question_21() in [\"A\",\"B\",\"C\"] # make sure result is one of the above options... \n",
    "\n",
    "\n",
    "# beware hidden tests"
   ]
  },
  {
   "cell_type": "markdown",
   "metadata": {
    "deletable": false,
    "editable": false,
    "nbgrader": {
     "cell_type": "markdown",
     "checksum": "03d365080ccaa6cb4b5a08f503c004b9",
     "grade": false,
     "grade_id": "cell-43e46472204f62bb",
     "locked": true,
     "schema_version": 3,
     "solution": false,
     "task": false
    }
   },
   "source": [
    "##  Discrete Random Variables (3 points)\n",
    "\n",
    "In lectures we covered discrete random variables, and how to generate them by first generating numbers randomely between 0, and 1, then mapping them a discrete outcome. \n",
    "\n",
    "The following function: `d20` rolls a 20 sided dice, often used in the game dungeons and dragons. Each number has an equal chance of showing up. \n",
    "\n",
    "<img src=\"https://clipartart.com/images/dd-logo-clipart.png\" width=\"200\" height=\"200\" />\n",
    "\n",
    "\n",
    "The function `d20` must take in a number `p` which is a float number and maps it to the respective number on the d20 die. For instance, if `p` is between 0 and 1/20 then return the integer `1`. If `p` is between 1/20 and 2/20 then return the integer `2`. Do this for all possible outcomes. (I will not give a p that is exactly on the boundary between two different outcomes). \n",
    "\n",
    "\n",
    "\n",
    "\n",
    "\n"
   ]
  },
  {
   "cell_type": "code",
   "execution_count": 9,
   "metadata": {
    "deletable": false,
    "nbgrader": {
     "cell_type": "code",
     "checksum": "4c4952da2f4eab3ee107b1c7aa8b54d5",
     "grade": false,
     "grade_id": "cell-6db52ef5890906a1",
     "locked": false,
     "schema_version": 3,
     "solution": true,
     "task": false
    }
   },
   "outputs": [
    {
     "output_type": "execute_result",
     "data": {
      "text/plain": [
       "2"
      ]
     },
     "metadata": {},
     "execution_count": 9
    }
   ],
   "source": [
    "def d20(p):\n",
    "    \"\"\" Rolls a d20 die \"\"\"\n",
    "    \n",
    "    # YOUR CODE HERE\n",
    "    for n in range (0,20):\n",
    "        if n/20<p and p<=(n+1)/20:\n",
    "            n = n+1\n",
    "            return(n)\n",
    "d20(0.1)"
   ]
  },
  {
   "cell_type": "code",
   "execution_count": 10,
   "metadata": {
    "deletable": false,
    "editable": false,
    "nbgrader": {
     "cell_type": "code",
     "checksum": "3a996ccc6b7b1e58a1276b44050f63a6",
     "grade": true,
     "grade_id": "cell-754eef1c8104355e",
     "locked": true,
     "points": 3,
     "schema_version": 3,
     "solution": false,
     "task": false
    }
   },
   "outputs": [],
   "source": [
    "# sanity check make sure these run \n",
    "assert type(d20(0.1)) == int\n",
    "\n",
    "# beware of hidden tests\n"
   ]
  },
  {
   "cell_type": "markdown",
   "metadata": {
    "deletable": false,
    "editable": false,
    "nbgrader": {
     "cell_type": "markdown",
     "checksum": "230d4e8d82608ccb2332e0763bfb9aa2",
     "grade": false,
     "grade_id": "cell-4a1a6642db849645",
     "locked": true,
     "schema_version": 3,
     "solution": false,
     "task": false
    }
   },
   "source": [
    "# Model Fitting (4 points)\n",
    "\n",
    "\n",
    "\n",
    "In class we covered data driven model development, specifically how we can fit a model to the archeological data and predict the weight of giant bird species. For this question, you are given the following weight and femur data.\n",
    "\n",
    "<img src=\"https://pbs.twimg.com/media/CBEmqVHUsAA_Dn0?format=jpg&name=small\" width=\"400\" height=\"400\" />\n",
    "\n",
    "\n",
    "`femurs = np.array([0.08293535, 0.16073765, 0.23048063, 0.48611004, 0.74620052,\n",
    "       0.92089422, 0.93408545, 1.06110503, 1.1135267 , 1.24930855,\n",
    "       1.43741203, 1.50996141, 1.53050224, 1.56359314, 1.63460286,\n",
    "       1.93889283, 2.2085813 , 2.48029868, 2.67241209, 2.8548838 ,\n",
    "       3.32500923, 4.5265359 , 5.13405133, 5.49089323, 6.06015127,\n",
    "       6.88653084, 7.00052689, 7.18826093, 7.22625111, 7.34739615,\n",
    "       7.36256519, 7.38957423, 7.43074601, 7.79746316, 8.58583885,\n",
    "       8.67286156, 8.8732313 , 8.91454195, 9.03698764, 9.25965744])`\n",
    "       \n",
    "       \n",
    "`weights = np.array([ 99.99312249,  99.97417409,  99.94692383,  99.76459046,\n",
    "        99.44814547,  99.16346075,  99.13966491,  98.89434011,\n",
    "        98.78465757,  98.47820429,  98.00215049,  97.80318973,\n",
    "        97.74535508,  97.65081108,  97.44230056,  96.46681263,\n",
    "        95.50286047,  94.45364881,  93.67429541,  92.91249279,\n",
    "        90.89996484,  86.22760438,  84.757831  ,  84.39436322,\n",
    "        84.85468594,  88.56073134,  89.42019085,  91.04733806,\n",
    "        91.40998551,  92.64452359,  92.8076506 ,  93.10289981,\n",
    "        93.56489595,  98.34664832, 113.22963302, 115.30670284,\n",
    "       120.45103923, 121.57624117, 125.04521705, 131.88375142])`\n",
    "        \n",
    "        \n",
    " \n",
    " \n",
    " \n",
    "Fit an appropriate model to the data, optimize the fit using nonlinear optimize, and predict the weight of a bird A with femur length `4`, and bird B with femur length `8.5`. You should probably open up a seperate notebook to run your model fitting procedure. \n",
    "\n",
    "Place your answers within the function `bird_weights` as `bird_weight_A` and `bird_weight_B`. \n",
    "\n"
   ]
  },
  {
   "cell_type": "code",
   "execution_count": 11,
   "metadata": {},
   "outputs": [
    {
     "output_type": "execute_result",
     "data": {
      "text/plain": [
       "[<matplotlib.lines.Line2D at 0x10da9310>]"
      ]
     },
     "metadata": {},
     "execution_count": 11
    },
    {
     "output_type": "display_data",
     "data": {
      "text/plain": "<Figure size 432x288 with 1 Axes>",
      "image/svg+xml": "<?xml version=\"1.0\" encoding=\"utf-8\" standalone=\"no\"?>\r\n<!DOCTYPE svg PUBLIC \"-//W3C//DTD SVG 1.1//EN\"\r\n  \"http://www.w3.org/Graphics/SVG/1.1/DTD/svg11.dtd\">\r\n<!-- Created with matplotlib (https://matplotlib.org/) -->\r\n<svg height=\"248.518125pt\" version=\"1.1\" viewBox=\"0 0 375.2875 248.518125\" width=\"375.2875pt\" xmlns=\"http://www.w3.org/2000/svg\" xmlns:xlink=\"http://www.w3.org/1999/xlink\">\r\n <metadata>\r\n  <rdf:RDF xmlns:cc=\"http://creativecommons.org/ns#\" xmlns:dc=\"http://purl.org/dc/elements/1.1/\" xmlns:rdf=\"http://www.w3.org/1999/02/22-rdf-syntax-ns#\">\r\n   <cc:Work>\r\n    <dc:type rdf:resource=\"http://purl.org/dc/dcmitype/StillImage\"/>\r\n    <dc:date>2020-10-26T18:20:37.386605</dc:date>\r\n    <dc:format>image/svg+xml</dc:format>\r\n    <dc:creator>\r\n     <cc:Agent>\r\n      <dc:title>Matplotlib v3.3.2, https://matplotlib.org/</dc:title>\r\n     </cc:Agent>\r\n    </dc:creator>\r\n   </cc:Work>\r\n  </rdf:RDF>\r\n </metadata>\r\n <defs>\r\n  <style type=\"text/css\">*{stroke-linecap:butt;stroke-linejoin:round;}</style>\r\n </defs>\r\n <g id=\"figure_1\">\r\n  <g id=\"patch_1\">\r\n   <path d=\"M 0 248.518125 \r\nL 375.2875 248.518125 \r\nL 375.2875 0 \r\nL 0 0 \r\nz\r\n\" style=\"fill:none;\"/>\r\n  </g>\r\n  <g id=\"axes_1\">\r\n   <g id=\"patch_2\">\r\n    <path d=\"M 33.2875 224.64 \r\nL 368.0875 224.64 \r\nL 368.0875 7.2 \r\nL 33.2875 7.2 \r\nz\r\n\" style=\"fill:#ffffff;\"/>\r\n   </g>\r\n   <g id=\"PathCollection_1\">\r\n    <defs>\r\n     <path d=\"M 0 3 \r\nC 0.795609 3 1.55874 2.683901 2.12132 2.12132 \r\nC 2.683901 1.55874 3 0.795609 3 0 \r\nC 3 -0.795609 2.683901 -1.55874 2.12132 -2.12132 \r\nC 1.55874 -2.683901 0.795609 -3 0 -3 \r\nC -0.795609 -3 -1.55874 -2.683901 -2.12132 -2.12132 \r\nC -2.683901 -1.55874 -3 -0.795609 -3 0 \r\nC -3 0.795609 -2.683901 1.55874 -2.12132 2.12132 \r\nC -1.55874 2.683901 -0.795609 3 0 3 \r\nz\r\n\" id=\"m8cd6ea440c\" style=\"stroke:#1f77b4;\"/>\r\n    </defs>\r\n    <g clip-path=\"url(#pbb99b3af55)\">\r\n     <use style=\"fill:#1f77b4;stroke:#1f77b4;\" x=\"51.029932\" xlink:href=\"#m8cd6ea440c\" y=\"173.94941\"/>\r\n     <use style=\"fill:#1f77b4;stroke:#1f77b4;\" x=\"53.397951\" xlink:href=\"#m8cd6ea440c\" y=\"173.998951\"/>\r\n     <use style=\"fill:#1f77b4;stroke:#1f77b4;\" x=\"55.520674\" xlink:href=\"#m8cd6ea440c\" y=\"174.070199\"/>\r\n     <use style=\"fill:#1f77b4;stroke:#1f77b4;\" x=\"63.301104\" xlink:href=\"#m8cd6ea440c\" y=\"174.546921\"/>\r\n     <use style=\"fill:#1f77b4;stroke:#1f77b4;\" x=\"71.217312\" xlink:href=\"#m8cd6ea440c\" y=\"175.374286\"/>\r\n     <use style=\"fill:#1f77b4;stroke:#1f77b4;\" x=\"76.534353\" xlink:href=\"#m8cd6ea440c\" y=\"176.118612\"/>\r\n     <use style=\"fill:#1f77b4;stroke:#1f77b4;\" x=\"76.935846\" xlink:href=\"#m8cd6ea440c\" y=\"176.180827\"/>\r\n     <use style=\"fill:#1f77b4;stroke:#1f77b4;\" x=\"80.80186\" xlink:href=\"#m8cd6ea440c\" y=\"176.822244\"/>\r\n     <use style=\"fill:#1f77b4;stroke:#1f77b4;\" x=\"82.397385\" xlink:href=\"#m8cd6ea440c\" y=\"177.109016\"/>\r\n     <use style=\"fill:#1f77b4;stroke:#1f77b4;\" x=\"86.530091\" xlink:href=\"#m8cd6ea440c\" y=\"177.910257\"/>\r\n     <use style=\"fill:#1f77b4;stroke:#1f77b4;\" x=\"92.255277\" xlink:href=\"#m8cd6ea440c\" y=\"179.15493\"/>\r\n     <use style=\"fill:#1f77b4;stroke:#1f77b4;\" x=\"94.463416\" xlink:href=\"#m8cd6ea440c\" y=\"179.675125\"/>\r\n     <use style=\"fill:#1f77b4;stroke:#1f77b4;\" x=\"95.088605\" xlink:href=\"#m8cd6ea440c\" y=\"179.826337\"/>\r\n     <use style=\"fill:#1f77b4;stroke:#1f77b4;\" x=\"96.095771\" xlink:href=\"#m8cd6ea440c\" y=\"180.073528\"/>\r\n     <use style=\"fill:#1f77b4;stroke:#1f77b4;\" x=\"98.257049\" xlink:href=\"#m8cd6ea440c\" y=\"180.618692\"/>\r\n     <use style=\"fill:#1f77b4;stroke:#1f77b4;\" x=\"107.518529\" xlink:href=\"#m8cd6ea440c\" y=\"183.169166\"/>\r\n     <use style=\"fill:#1f77b4;stroke:#1f77b4;\" x=\"115.726865\" xlink:href=\"#m8cd6ea440c\" y=\"185.689479\"/>\r\n     <use style=\"fill:#1f77b4;stroke:#1f77b4;\" x=\"123.996954\" xlink:href=\"#m8cd6ea440c\" y=\"188.432708\"/>\r\n     <use style=\"fill:#1f77b4;stroke:#1f77b4;\" x=\"129.844188\" xlink:href=\"#m8cd6ea440c\" y=\"190.470376\"/>\r\n     <use style=\"fill:#1f77b4;stroke:#1f77b4;\" x=\"135.397963\" xlink:href=\"#m8cd6ea440c\" y=\"192.462156\"/>\r\n     <use style=\"fill:#1f77b4;stroke:#1f77b4;\" x=\"149.706872\" xlink:href=\"#m8cd6ea440c\" y=\"197.724035\"/>\r\n     <use style=\"fill:#1f77b4;stroke:#1f77b4;\" x=\"186.276974\" xlink:href=\"#m8cd6ea440c\" y=\"209.940212\"/>\r\n     <use style=\"fill:#1f77b4;stroke:#1f77b4;\" x=\"204.767535\" xlink:href=\"#m8cd6ea440c\" y=\"213.783026\"/>\r\n     <use style=\"fill:#1f77b4;stroke:#1f77b4;\" x=\"215.628505\" xlink:href=\"#m8cd6ea440c\" y=\"214.733335\"/>\r\n     <use style=\"fill:#1f77b4;stroke:#1f77b4;\" x=\"232.95465\" xlink:href=\"#m8cd6ea440c\" y=\"213.529792\"/>\r\n     <use style=\"fill:#1f77b4;stroke:#1f77b4;\" x=\"258.106639\" xlink:href=\"#m8cd6ea440c\" y=\"203.840106\"/>\r\n     <use style=\"fill:#1f77b4;stroke:#1f77b4;\" x=\"261.576264\" xlink:href=\"#m8cd6ea440c\" y=\"201.592996\"/>\r\n     <use style=\"fill:#1f77b4;stroke:#1f77b4;\" x=\"267.290205\" xlink:href=\"#m8cd6ea440c\" y=\"197.338719\"/>\r\n     <use style=\"fill:#1f77b4;stroke:#1f77b4;\" x=\"268.446488\" xlink:href=\"#m8cd6ea440c\" y=\"196.390554\"/>\r\n     <use style=\"fill:#1f77b4;stroke:#1f77b4;\" x=\"272.133703\" xlink:href=\"#m8cd6ea440c\" y=\"193.162778\"/>\r\n     <use style=\"fill:#1f77b4;stroke:#1f77b4;\" x=\"272.595393\" xlink:href=\"#m8cd6ea440c\" y=\"192.736272\"/>\r\n     <use style=\"fill:#1f77b4;stroke:#1f77b4;\" x=\"273.41745\" xlink:href=\"#m8cd6ea440c\" y=\"191.964325\"/>\r\n     <use style=\"fill:#1f77b4;stroke:#1f77b4;\" x=\"274.670569\" xlink:href=\"#m8cd6ea440c\" y=\"190.756407\"/>\r\n     <use style=\"fill:#1f77b4;stroke:#1f77b4;\" x=\"285.832106\" xlink:href=\"#m8cd6ea440c\" y=\"178.254219\"/>\r\n     <use style=\"fill:#1f77b4;stroke:#1f77b4;\" x=\"309.827395\" xlink:href=\"#m8cd6ea440c\" y=\"139.34173\"/>\r\n     <use style=\"fill:#1f77b4;stroke:#1f77b4;\" x=\"312.47605\" xlink:href=\"#m8cd6ea440c\" y=\"133.911102\"/>\r\n     <use style=\"fill:#1f77b4;stroke:#1f77b4;\" x=\"318.574576\" xlink:href=\"#m8cd6ea440c\" y=\"120.460915\"/>\r\n     <use style=\"fill:#1f77b4;stroke:#1f77b4;\" x=\"319.831922\" xlink:href=\"#m8cd6ea440c\" y=\"117.519005\"/>\r\n     <use style=\"fill:#1f77b4;stroke:#1f77b4;\" x=\"323.558724\" xlink:href=\"#m8cd6ea440c\" y=\"108.449152\"/>\r\n     <use style=\"fill:#1f77b4;stroke:#1f77b4;\" x=\"330.335983\" xlink:href=\"#m8cd6ea440c\" y=\"90.569379\"/>\r\n    </g>\r\n   </g>\r\n   <g id=\"matplotlib.axis_1\">\r\n    <g id=\"xtick_1\">\r\n     <g id=\"line2d_1\">\r\n      <defs>\r\n       <path d=\"M 0 0 \r\nL 0 3.5 \r\n\" id=\"m3becb22248\" style=\"stroke:#000000;stroke-width:0.8;\"/>\r\n      </defs>\r\n      <g>\r\n       <use style=\"stroke:#000000;stroke-width:0.8;\" x=\"48.505682\" xlink:href=\"#m3becb22248\" y=\"224.64\"/>\r\n      </g>\r\n     </g>\r\n     <g id=\"text_1\">\r\n      <!-- 0 -->\r\n      <g transform=\"translate(45.324432 239.238438)scale(0.1 -0.1)\">\r\n       <defs>\r\n        <path d=\"M 31.78125 66.40625 \r\nQ 24.171875 66.40625 20.328125 58.90625 \r\nQ 16.5 51.421875 16.5 36.375 \r\nQ 16.5 21.390625 20.328125 13.890625 \r\nQ 24.171875 6.390625 31.78125 6.390625 \r\nQ 39.453125 6.390625 43.28125 13.890625 \r\nQ 47.125 21.390625 47.125 36.375 \r\nQ 47.125 51.421875 43.28125 58.90625 \r\nQ 39.453125 66.40625 31.78125 66.40625 \r\nz\r\nM 31.78125 74.21875 \r\nQ 44.046875 74.21875 50.515625 64.515625 \r\nQ 56.984375 54.828125 56.984375 36.375 \r\nQ 56.984375 17.96875 50.515625 8.265625 \r\nQ 44.046875 -1.421875 31.78125 -1.421875 \r\nQ 19.53125 -1.421875 13.0625 8.265625 \r\nQ 6.59375 17.96875 6.59375 36.375 \r\nQ 6.59375 54.828125 13.0625 64.515625 \r\nQ 19.53125 74.21875 31.78125 74.21875 \r\nz\r\n\" id=\"DejaVuSans-48\"/>\r\n       </defs>\r\n       <use xlink:href=\"#DejaVuSans-48\"/>\r\n      </g>\r\n     </g>\r\n    </g>\r\n    <g id=\"xtick_2\">\r\n     <g id=\"line2d_2\">\r\n      <g>\r\n       <use style=\"stroke:#000000;stroke-width:0.8;\" x=\"109.378409\" xlink:href=\"#m3becb22248\" y=\"224.64\"/>\r\n      </g>\r\n     </g>\r\n     <g id=\"text_2\">\r\n      <!-- 2 -->\r\n      <g transform=\"translate(106.197159 239.238438)scale(0.1 -0.1)\">\r\n       <defs>\r\n        <path d=\"M 19.1875 8.296875 \r\nL 53.609375 8.296875 \r\nL 53.609375 0 \r\nL 7.328125 0 \r\nL 7.328125 8.296875 \r\nQ 12.9375 14.109375 22.625 23.890625 \r\nQ 32.328125 33.6875 34.8125 36.53125 \r\nQ 39.546875 41.84375 41.421875 45.53125 \r\nQ 43.3125 49.21875 43.3125 52.78125 \r\nQ 43.3125 58.59375 39.234375 62.25 \r\nQ 35.15625 65.921875 28.609375 65.921875 \r\nQ 23.96875 65.921875 18.8125 64.3125 \r\nQ 13.671875 62.703125 7.8125 59.421875 \r\nL 7.8125 69.390625 \r\nQ 13.765625 71.78125 18.9375 73 \r\nQ 24.125 74.21875 28.421875 74.21875 \r\nQ 39.75 74.21875 46.484375 68.546875 \r\nQ 53.21875 62.890625 53.21875 53.421875 \r\nQ 53.21875 48.921875 51.53125 44.890625 \r\nQ 49.859375 40.875 45.40625 35.40625 \r\nQ 44.1875 33.984375 37.640625 27.21875 \r\nQ 31.109375 20.453125 19.1875 8.296875 \r\nz\r\n\" id=\"DejaVuSans-50\"/>\r\n       </defs>\r\n       <use xlink:href=\"#DejaVuSans-50\"/>\r\n      </g>\r\n     </g>\r\n    </g>\r\n    <g id=\"xtick_3\">\r\n     <g id=\"line2d_3\">\r\n      <g>\r\n       <use style=\"stroke:#000000;stroke-width:0.8;\" x=\"170.251136\" xlink:href=\"#m3becb22248\" y=\"224.64\"/>\r\n      </g>\r\n     </g>\r\n     <g id=\"text_3\">\r\n      <!-- 4 -->\r\n      <g transform=\"translate(167.069886 239.238438)scale(0.1 -0.1)\">\r\n       <defs>\r\n        <path d=\"M 37.796875 64.3125 \r\nL 12.890625 25.390625 \r\nL 37.796875 25.390625 \r\nz\r\nM 35.203125 72.90625 \r\nL 47.609375 72.90625 \r\nL 47.609375 25.390625 \r\nL 58.015625 25.390625 \r\nL 58.015625 17.1875 \r\nL 47.609375 17.1875 \r\nL 47.609375 0 \r\nL 37.796875 0 \r\nL 37.796875 17.1875 \r\nL 4.890625 17.1875 \r\nL 4.890625 26.703125 \r\nz\r\n\" id=\"DejaVuSans-52\"/>\r\n       </defs>\r\n       <use xlink:href=\"#DejaVuSans-52\"/>\r\n      </g>\r\n     </g>\r\n    </g>\r\n    <g id=\"xtick_4\">\r\n     <g id=\"line2d_4\">\r\n      <g>\r\n       <use style=\"stroke:#000000;stroke-width:0.8;\" x=\"231.123864\" xlink:href=\"#m3becb22248\" y=\"224.64\"/>\r\n      </g>\r\n     </g>\r\n     <g id=\"text_4\">\r\n      <!-- 6 -->\r\n      <g transform=\"translate(227.942614 239.238438)scale(0.1 -0.1)\">\r\n       <defs>\r\n        <path d=\"M 33.015625 40.375 \r\nQ 26.375 40.375 22.484375 35.828125 \r\nQ 18.609375 31.296875 18.609375 23.390625 \r\nQ 18.609375 15.53125 22.484375 10.953125 \r\nQ 26.375 6.390625 33.015625 6.390625 \r\nQ 39.65625 6.390625 43.53125 10.953125 \r\nQ 47.40625 15.53125 47.40625 23.390625 \r\nQ 47.40625 31.296875 43.53125 35.828125 \r\nQ 39.65625 40.375 33.015625 40.375 \r\nz\r\nM 52.59375 71.296875 \r\nL 52.59375 62.3125 \r\nQ 48.875 64.0625 45.09375 64.984375 \r\nQ 41.3125 65.921875 37.59375 65.921875 \r\nQ 27.828125 65.921875 22.671875 59.328125 \r\nQ 17.53125 52.734375 16.796875 39.40625 \r\nQ 19.671875 43.65625 24.015625 45.921875 \r\nQ 28.375 48.1875 33.59375 48.1875 \r\nQ 44.578125 48.1875 50.953125 41.515625 \r\nQ 57.328125 34.859375 57.328125 23.390625 \r\nQ 57.328125 12.15625 50.6875 5.359375 \r\nQ 44.046875 -1.421875 33.015625 -1.421875 \r\nQ 20.359375 -1.421875 13.671875 8.265625 \r\nQ 6.984375 17.96875 6.984375 36.375 \r\nQ 6.984375 53.65625 15.1875 63.9375 \r\nQ 23.390625 74.21875 37.203125 74.21875 \r\nQ 40.921875 74.21875 44.703125 73.484375 \r\nQ 48.484375 72.75 52.59375 71.296875 \r\nz\r\n\" id=\"DejaVuSans-54\"/>\r\n       </defs>\r\n       <use xlink:href=\"#DejaVuSans-54\"/>\r\n      </g>\r\n     </g>\r\n    </g>\r\n    <g id=\"xtick_5\">\r\n     <g id=\"line2d_5\">\r\n      <g>\r\n       <use style=\"stroke:#000000;stroke-width:0.8;\" x=\"291.996591\" xlink:href=\"#m3becb22248\" y=\"224.64\"/>\r\n      </g>\r\n     </g>\r\n     <g id=\"text_5\">\r\n      <!-- 8 -->\r\n      <g transform=\"translate(288.815341 239.238438)scale(0.1 -0.1)\">\r\n       <defs>\r\n        <path d=\"M 31.78125 34.625 \r\nQ 24.75 34.625 20.71875 30.859375 \r\nQ 16.703125 27.09375 16.703125 20.515625 \r\nQ 16.703125 13.921875 20.71875 10.15625 \r\nQ 24.75 6.390625 31.78125 6.390625 \r\nQ 38.8125 6.390625 42.859375 10.171875 \r\nQ 46.921875 13.96875 46.921875 20.515625 \r\nQ 46.921875 27.09375 42.890625 30.859375 \r\nQ 38.875 34.625 31.78125 34.625 \r\nz\r\nM 21.921875 38.8125 \r\nQ 15.578125 40.375 12.03125 44.71875 \r\nQ 8.5 49.078125 8.5 55.328125 \r\nQ 8.5 64.0625 14.71875 69.140625 \r\nQ 20.953125 74.21875 31.78125 74.21875 \r\nQ 42.671875 74.21875 48.875 69.140625 \r\nQ 55.078125 64.0625 55.078125 55.328125 \r\nQ 55.078125 49.078125 51.53125 44.71875 \r\nQ 48 40.375 41.703125 38.8125 \r\nQ 48.828125 37.15625 52.796875 32.3125 \r\nQ 56.78125 27.484375 56.78125 20.515625 \r\nQ 56.78125 9.90625 50.3125 4.234375 \r\nQ 43.84375 -1.421875 31.78125 -1.421875 \r\nQ 19.734375 -1.421875 13.25 4.234375 \r\nQ 6.78125 9.90625 6.78125 20.515625 \r\nQ 6.78125 27.484375 10.78125 32.3125 \r\nQ 14.796875 37.15625 21.921875 38.8125 \r\nz\r\nM 18.3125 54.390625 \r\nQ 18.3125 48.734375 21.84375 45.5625 \r\nQ 25.390625 42.390625 31.78125 42.390625 \r\nQ 38.140625 42.390625 41.71875 45.5625 \r\nQ 45.3125 48.734375 45.3125 54.390625 \r\nQ 45.3125 60.0625 41.71875 63.234375 \r\nQ 38.140625 66.40625 31.78125 66.40625 \r\nQ 25.390625 66.40625 21.84375 63.234375 \r\nQ 18.3125 60.0625 18.3125 54.390625 \r\nz\r\n\" id=\"DejaVuSans-56\"/>\r\n       </defs>\r\n       <use xlink:href=\"#DejaVuSans-56\"/>\r\n      </g>\r\n     </g>\r\n    </g>\r\n    <g id=\"xtick_6\">\r\n     <g id=\"line2d_6\">\r\n      <g>\r\n       <use style=\"stroke:#000000;stroke-width:0.8;\" x=\"352.869318\" xlink:href=\"#m3becb22248\" y=\"224.64\"/>\r\n      </g>\r\n     </g>\r\n     <g id=\"text_6\">\r\n      <!-- 10 -->\r\n      <g transform=\"translate(346.506818 239.238438)scale(0.1 -0.1)\">\r\n       <defs>\r\n        <path d=\"M 12.40625 8.296875 \r\nL 28.515625 8.296875 \r\nL 28.515625 63.921875 \r\nL 10.984375 60.40625 \r\nL 10.984375 69.390625 \r\nL 28.421875 72.90625 \r\nL 38.28125 72.90625 \r\nL 38.28125 8.296875 \r\nL 54.390625 8.296875 \r\nL 54.390625 0 \r\nL 12.40625 0 \r\nz\r\n\" id=\"DejaVuSans-49\"/>\r\n       </defs>\r\n       <use xlink:href=\"#DejaVuSans-49\"/>\r\n       <use x=\"63.623047\" xlink:href=\"#DejaVuSans-48\"/>\r\n      </g>\r\n     </g>\r\n    </g>\r\n   </g>\r\n   <g id=\"matplotlib.axis_2\">\r\n    <g id=\"ytick_1\">\r\n     <g id=\"line2d_7\">\r\n      <defs>\r\n       <path d=\"M 0 0 \r\nL -3.5 0 \r\n\" id=\"m4eb68ac33e\" style=\"stroke:#000000;stroke-width:0.8;\"/>\r\n      </defs>\r\n      <g>\r\n       <use style=\"stroke:#000000;stroke-width:0.8;\" x=\"33.2875\" xlink:href=\"#m4eb68ac33e\" y=\"200.077049\"/>\r\n      </g>\r\n     </g>\r\n     <g id=\"text_7\">\r\n      <!-- 90 -->\r\n      <g transform=\"translate(13.5625 203.876268)scale(0.1 -0.1)\">\r\n       <defs>\r\n        <path d=\"M 10.984375 1.515625 \r\nL 10.984375 10.5 \r\nQ 14.703125 8.734375 18.5 7.8125 \r\nQ 22.3125 6.890625 25.984375 6.890625 \r\nQ 35.75 6.890625 40.890625 13.453125 \r\nQ 46.046875 20.015625 46.78125 33.40625 \r\nQ 43.953125 29.203125 39.59375 26.953125 \r\nQ 35.25 24.703125 29.984375 24.703125 \r\nQ 19.046875 24.703125 12.671875 31.3125 \r\nQ 6.296875 37.9375 6.296875 49.421875 \r\nQ 6.296875 60.640625 12.9375 67.421875 \r\nQ 19.578125 74.21875 30.609375 74.21875 \r\nQ 43.265625 74.21875 49.921875 64.515625 \r\nQ 56.59375 54.828125 56.59375 36.375 \r\nQ 56.59375 19.140625 48.40625 8.859375 \r\nQ 40.234375 -1.421875 26.421875 -1.421875 \r\nQ 22.703125 -1.421875 18.890625 -0.6875 \r\nQ 15.09375 0.046875 10.984375 1.515625 \r\nz\r\nM 30.609375 32.421875 \r\nQ 37.25 32.421875 41.125 36.953125 \r\nQ 45.015625 41.5 45.015625 49.421875 \r\nQ 45.015625 57.28125 41.125 61.84375 \r\nQ 37.25 66.40625 30.609375 66.40625 \r\nQ 23.96875 66.40625 20.09375 61.84375 \r\nQ 16.21875 57.28125 16.21875 49.421875 \r\nQ 16.21875 41.5 20.09375 36.953125 \r\nQ 23.96875 32.421875 30.609375 32.421875 \r\nz\r\n\" id=\"DejaVuSans-57\"/>\r\n       </defs>\r\n       <use xlink:href=\"#DejaVuSans-57\"/>\r\n       <use x=\"63.623047\" xlink:href=\"#DejaVuSans-48\"/>\r\n      </g>\r\n     </g>\r\n    </g>\r\n    <g id=\"ytick_2\">\r\n     <g id=\"line2d_8\">\r\n      <g>\r\n       <use style=\"stroke:#000000;stroke-width:0.8;\" x=\"33.2875\" xlink:href=\"#m4eb68ac33e\" y=\"173.931428\"/>\r\n      </g>\r\n     </g>\r\n     <g id=\"text_8\">\r\n      <!-- 100 -->\r\n      <g transform=\"translate(7.2 177.730647)scale(0.1 -0.1)\">\r\n       <use xlink:href=\"#DejaVuSans-49\"/>\r\n       <use x=\"63.623047\" xlink:href=\"#DejaVuSans-48\"/>\r\n       <use x=\"127.246094\" xlink:href=\"#DejaVuSans-48\"/>\r\n      </g>\r\n     </g>\r\n    </g>\r\n    <g id=\"ytick_3\">\r\n     <g id=\"line2d_9\">\r\n      <g>\r\n       <use style=\"stroke:#000000;stroke-width:0.8;\" x=\"33.2875\" xlink:href=\"#m4eb68ac33e\" y=\"147.785807\"/>\r\n      </g>\r\n     </g>\r\n     <g id=\"text_9\">\r\n      <!-- 110 -->\r\n      <g transform=\"translate(7.2 151.585025)scale(0.1 -0.1)\">\r\n       <use xlink:href=\"#DejaVuSans-49\"/>\r\n       <use x=\"63.623047\" xlink:href=\"#DejaVuSans-49\"/>\r\n       <use x=\"127.246094\" xlink:href=\"#DejaVuSans-48\"/>\r\n      </g>\r\n     </g>\r\n    </g>\r\n    <g id=\"ytick_4\">\r\n     <g id=\"line2d_10\">\r\n      <g>\r\n       <use style=\"stroke:#000000;stroke-width:0.8;\" x=\"33.2875\" xlink:href=\"#m4eb68ac33e\" y=\"121.640185\"/>\r\n      </g>\r\n     </g>\r\n     <g id=\"text_10\">\r\n      <!-- 120 -->\r\n      <g transform=\"translate(7.2 125.439404)scale(0.1 -0.1)\">\r\n       <use xlink:href=\"#DejaVuSans-49\"/>\r\n       <use x=\"63.623047\" xlink:href=\"#DejaVuSans-50\"/>\r\n       <use x=\"127.246094\" xlink:href=\"#DejaVuSans-48\"/>\r\n      </g>\r\n     </g>\r\n    </g>\r\n    <g id=\"ytick_5\">\r\n     <g id=\"line2d_11\">\r\n      <g>\r\n       <use style=\"stroke:#000000;stroke-width:0.8;\" x=\"33.2875\" xlink:href=\"#m4eb68ac33e\" y=\"95.494564\"/>\r\n      </g>\r\n     </g>\r\n     <g id=\"text_11\">\r\n      <!-- 130 -->\r\n      <g transform=\"translate(7.2 99.293783)scale(0.1 -0.1)\">\r\n       <defs>\r\n        <path d=\"M 40.578125 39.3125 \r\nQ 47.65625 37.796875 51.625 33 \r\nQ 55.609375 28.21875 55.609375 21.1875 \r\nQ 55.609375 10.40625 48.1875 4.484375 \r\nQ 40.765625 -1.421875 27.09375 -1.421875 \r\nQ 22.515625 -1.421875 17.65625 -0.515625 \r\nQ 12.796875 0.390625 7.625 2.203125 \r\nL 7.625 11.71875 \r\nQ 11.71875 9.328125 16.59375 8.109375 \r\nQ 21.484375 6.890625 26.8125 6.890625 \r\nQ 36.078125 6.890625 40.9375 10.546875 \r\nQ 45.796875 14.203125 45.796875 21.1875 \r\nQ 45.796875 27.640625 41.28125 31.265625 \r\nQ 36.765625 34.90625 28.71875 34.90625 \r\nL 20.21875 34.90625 \r\nL 20.21875 43.015625 \r\nL 29.109375 43.015625 \r\nQ 36.375 43.015625 40.234375 45.921875 \r\nQ 44.09375 48.828125 44.09375 54.296875 \r\nQ 44.09375 59.90625 40.109375 62.90625 \r\nQ 36.140625 65.921875 28.71875 65.921875 \r\nQ 24.65625 65.921875 20.015625 65.03125 \r\nQ 15.375 64.15625 9.8125 62.3125 \r\nL 9.8125 71.09375 \r\nQ 15.4375 72.65625 20.34375 73.4375 \r\nQ 25.25 74.21875 29.59375 74.21875 \r\nQ 40.828125 74.21875 47.359375 69.109375 \r\nQ 53.90625 64.015625 53.90625 55.328125 \r\nQ 53.90625 49.265625 50.4375 45.09375 \r\nQ 46.96875 40.921875 40.578125 39.3125 \r\nz\r\n\" id=\"DejaVuSans-51\"/>\r\n       </defs>\r\n       <use xlink:href=\"#DejaVuSans-49\"/>\r\n       <use x=\"63.623047\" xlink:href=\"#DejaVuSans-51\"/>\r\n       <use x=\"127.246094\" xlink:href=\"#DejaVuSans-48\"/>\r\n      </g>\r\n     </g>\r\n    </g>\r\n    <g id=\"ytick_6\">\r\n     <g id=\"line2d_12\">\r\n      <g>\r\n       <use style=\"stroke:#000000;stroke-width:0.8;\" x=\"33.2875\" xlink:href=\"#m4eb68ac33e\" y=\"69.348943\"/>\r\n      </g>\r\n     </g>\r\n     <g id=\"text_12\">\r\n      <!-- 140 -->\r\n      <g transform=\"translate(7.2 73.148161)scale(0.1 -0.1)\">\r\n       <use xlink:href=\"#DejaVuSans-49\"/>\r\n       <use x=\"63.623047\" xlink:href=\"#DejaVuSans-52\"/>\r\n       <use x=\"127.246094\" xlink:href=\"#DejaVuSans-48\"/>\r\n      </g>\r\n     </g>\r\n    </g>\r\n    <g id=\"ytick_7\">\r\n     <g id=\"line2d_13\">\r\n      <g>\r\n       <use style=\"stroke:#000000;stroke-width:0.8;\" x=\"33.2875\" xlink:href=\"#m4eb68ac33e\" y=\"43.203321\"/>\r\n      </g>\r\n     </g>\r\n     <g id=\"text_13\">\r\n      <!-- 150 -->\r\n      <g transform=\"translate(7.2 47.00254)scale(0.1 -0.1)\">\r\n       <defs>\r\n        <path d=\"M 10.796875 72.90625 \r\nL 49.515625 72.90625 \r\nL 49.515625 64.59375 \r\nL 19.828125 64.59375 \r\nL 19.828125 46.734375 \r\nQ 21.96875 47.46875 24.109375 47.828125 \r\nQ 26.265625 48.1875 28.421875 48.1875 \r\nQ 40.625 48.1875 47.75 41.5 \r\nQ 54.890625 34.8125 54.890625 23.390625 \r\nQ 54.890625 11.625 47.5625 5.09375 \r\nQ 40.234375 -1.421875 26.90625 -1.421875 \r\nQ 22.3125 -1.421875 17.546875 -0.640625 \r\nQ 12.796875 0.140625 7.71875 1.703125 \r\nL 7.71875 11.625 \r\nQ 12.109375 9.234375 16.796875 8.0625 \r\nQ 21.484375 6.890625 26.703125 6.890625 \r\nQ 35.15625 6.890625 40.078125 11.328125 \r\nQ 45.015625 15.765625 45.015625 23.390625 \r\nQ 45.015625 31 40.078125 35.4375 \r\nQ 35.15625 39.890625 26.703125 39.890625 \r\nQ 22.75 39.890625 18.8125 39.015625 \r\nQ 14.890625 38.140625 10.796875 36.28125 \r\nz\r\n\" id=\"DejaVuSans-53\"/>\r\n       </defs>\r\n       <use xlink:href=\"#DejaVuSans-49\"/>\r\n       <use x=\"63.623047\" xlink:href=\"#DejaVuSans-53\"/>\r\n       <use x=\"127.246094\" xlink:href=\"#DejaVuSans-48\"/>\r\n      </g>\r\n     </g>\r\n    </g>\r\n    <g id=\"ytick_8\">\r\n     <g id=\"line2d_14\">\r\n      <g>\r\n       <use style=\"stroke:#000000;stroke-width:0.8;\" x=\"33.2875\" xlink:href=\"#m4eb68ac33e\" y=\"17.0577\"/>\r\n      </g>\r\n     </g>\r\n     <g id=\"text_14\">\r\n      <!-- 160 -->\r\n      <g transform=\"translate(7.2 20.856919)scale(0.1 -0.1)\">\r\n       <use xlink:href=\"#DejaVuSans-49\"/>\r\n       <use x=\"63.623047\" xlink:href=\"#DejaVuSans-54\"/>\r\n       <use x=\"127.246094\" xlink:href=\"#DejaVuSans-48\"/>\r\n      </g>\r\n     </g>\r\n    </g>\r\n   </g>\r\n   <g id=\"line2d_15\">\r\n    <path clip-path=\"url(#pbb99b3af55)\" d=\"M 48.505682 173.938488 \r\nL 54.717185 174.044146 \r\nL 60.928687 174.367288 \r\nL 67.14019 174.905221 \r\nL 73.351693 175.653517 \r\nL 79.563196 176.606007 \r\nL 85.774699 177.754789 \r\nL 91.986201 179.090218 \r\nL 98.197704 180.600913 \r\nL 104.409207 182.273757 \r\nL 110.62071 184.093894 \r\nL 116.832212 186.044728 \r\nL 123.043715 188.107928 \r\nL 129.255218 190.263424 \r\nL 135.466721 192.489409 \r\nL 141.678224 194.762338 \r\nL 147.889726 197.056926 \r\nL 154.101229 199.346153 \r\nL 160.312732 201.601259 \r\nL 166.524235 203.791749 \r\nL 172.735737 205.885388 \r\nL 178.94724 207.848202 \r\nL 185.158743 209.644482 \r\nL 191.370246 211.23678 \r\nL 197.581749 212.58591 \r\nL 203.793251 213.650948 \r\nL 210.004754 214.389232 \r\nL 216.216257 214.756364 \r\nL 222.42776 214.706205 \r\nL 228.639263 214.190881 \r\nL 234.850765 213.160779 \r\nL 241.062268 211.564548 \r\nL 247.273771 209.3491 \r\nL 253.485274 206.459608 \r\nL 259.696776 202.839509 \r\nL 265.908279 198.430499 \r\nL 272.119782 193.172539 \r\nL 278.331285 187.003852 \r\nL 284.542788 179.860922 \r\nL 290.75429 171.678495 \r\nL 296.965793 162.38958 \r\nL 303.177296 151.925449 \r\nL 309.388799 140.215635 \r\nL 315.600301 127.187932 \r\nL 321.811804 112.768399 \r\nL 328.023307 96.881355 \r\nL 334.23481 79.449381 \r\nL 340.446313 60.393322 \r\nL 346.657815 39.632285 \r\nL 352.869318 17.083636 \r\n\" style=\"fill:none;stroke:#1f77b4;stroke-linecap:square;stroke-width:1.5;\"/>\r\n   </g>\r\n   <g id=\"patch_3\">\r\n    <path d=\"M 33.2875 224.64 \r\nL 33.2875 7.2 \r\n\" style=\"fill:none;stroke:#000000;stroke-linecap:square;stroke-linejoin:miter;stroke-width:0.8;\"/>\r\n   </g>\r\n   <g id=\"patch_4\">\r\n    <path d=\"M 368.0875 224.64 \r\nL 368.0875 7.2 \r\n\" style=\"fill:none;stroke:#000000;stroke-linecap:square;stroke-linejoin:miter;stroke-width:0.8;\"/>\r\n   </g>\r\n   <g id=\"patch_5\">\r\n    <path d=\"M 33.2875 224.64 \r\nL 368.0875 224.64 \r\n\" style=\"fill:none;stroke:#000000;stroke-linecap:square;stroke-linejoin:miter;stroke-width:0.8;\"/>\r\n   </g>\r\n   <g id=\"patch_6\">\r\n    <path d=\"M 33.2875 7.2 \r\nL 368.0875 7.2 \r\n\" style=\"fill:none;stroke:#000000;stroke-linecap:square;stroke-linejoin:miter;stroke-width:0.8;\"/>\r\n   </g>\r\n  </g>\r\n </g>\r\n <defs>\r\n  <clipPath id=\"pbb99b3af55\">\r\n   <rect height=\"217.44\" width=\"334.8\" x=\"33.2875\" y=\"7.2\"/>\r\n  </clipPath>\r\n </defs>\r\n</svg>\r\n",
      "image/png": "[encoded data removed]"
     },
     "metadata": {
      "needs_background": "light"
     }
    }
   ],
   "source": [
    "femurs = np.array([0.08293535, 0.16073765, 0.23048063, 0.48611004, 0.74620052, 0.92089422, 0.93408545, 1.06110503, 1.1135267 , 1.24930855, 1.43741203, 1.50996141, 1.53050224, 1.56359314, 1.63460286, 1.93889283, 2.2085813 , 2.48029868, 2.67241209, 2.8548838 , 3.32500923, 4.5265359 , 5.13405133, 5.49089323, 6.06015127, 6.88653084, 7.00052689, 7.18826093, 7.22625111, 7.34739615, 7.36256519, 7.38957423, 7.43074601, 7.79746316, 8.58583885, 8.67286156, 8.8732313 , 8.91454195, 9.03698764, 9.25965744])\n",
    "weights = np.array([ 99.99312249, 99.97417409, 99.94692383, 99.76459046, 99.44814547, 99.16346075, 99.13966491, 98.89434011, 98.78465757, 98.47820429, 98.00215049, 97.80318973, 97.74535508, 97.65081108, 97.44230056, 96.46681263, 95.50286047, 94.45364881, 93.67429541, 92.91249279, 90.89996484, 86.22760438, 84.757831 , 84.39436322, 84.85468594, 88.56073134, 89.42019085, 91.04733806, 91.40998551, 92.64452359, 92.8076506 , 93.10289981, 93.56489595, 98.34664832, 113.22963302, 115.30670284, 120.45103923, 121.57624117, 125.04521705, 131.88375142])\n",
    "pyplot.scatter(femurs,weights)\n",
    "def ploy_f(f,a,b,c,d,e):\n",
    "    return (a*f**4 + b*f**3 +c*f**2+d*f+e)\n",
    "\n",
    "def h(theta):\n",
    "    obj=0.0\n",
    "    for i in range(0,femurs.size):\n",
    "        f_i=femurs[i]\n",
    "        w_i=weights[i]\n",
    "        obj += (w_i - ploy_f(f_i,theta[0],theta[1],theta[2],theta[3],theta[4]))**2\n",
    "    return(obj)\n",
    "\n",
    "results = optimize.minimize(h,np.array([0.1,0.1,0.1,0.1,0.1]))\n",
    "results\n",
    "f_lin=np.linspace(0,10)\n",
    "pyplot.plot(f_lin,ploy_f(f_lin,1.59654555e-02,  6.35563395e-04, -1.00363797e+00,  6.64589597e-03,\n",
    "        9.99972997e+01))"
   ]
  },
  {
   "cell_type": "code",
   "execution_count": 12,
   "metadata": {
    "deletable": false,
    "nbgrader": {
     "cell_type": "code",
     "checksum": "b22347dcd6825175d63fc264d820452d",
     "grade": false,
     "grade_id": "cell-b61ceee1680b36d6",
     "locked": false,
     "schema_version": 3,
     "solution": true,
     "task": false
    }
   },
   "outputs": [
    {
     "output_type": "execute_result",
     "data": {
      "text/plain": [
       "(88.09350842916, 111.27193740416814)"
      ]
     },
     "metadata": {},
     "execution_count": 12
    }
   ],
   "source": [
    "def bird_weights():\n",
    "    \"\"\" \n",
    "    Predicted bird weights of A and B\n",
    "    \"\"\"\n",
    "    bird_weight_A = 0\n",
    "    bird_weight_B = 0\n",
    "    \n",
    "    # YOUR CODE HERE\n",
    "    bird_weight_A = float(ploy_f(4,1.59654555e-02,  6.35563395e-04, -1.00363797e+00,  6.64589597e-03,\n",
    "        9.99972997e+01))\n",
    "    bird_weight_B = float(ploy_f(8.5,1.59654555e-02,  6.35563395e-04, -1.00363797e+00,  6.64589597e-03,\n",
    "        9.99972997e+01))\n",
    "    return(bird_weight_A, bird_weight_B)\n",
    "bird_weights()"
   ]
  },
  {
   "cell_type": "code",
   "execution_count": 13,
   "metadata": {
    "deletable": false,
    "editable": false,
    "nbgrader": {
     "cell_type": "code",
     "checksum": "9541495f37d782f8a8802f3f0029d240",
     "grade": true,
     "grade_id": "cell-ed814e7b55db0a33",
     "locked": true,
     "points": 4,
     "schema_version": 3,
     "solution": false,
     "task": false
    }
   },
   "outputs": [],
   "source": [
    "# note that the weights of both birds must be within +/- 1 lbs of precision. So for example if the true weight was \n",
    "# 10 then if you estimated 11 or 9, you would get full marks!\n",
    "\n",
    "# beware of hidden tests "
   ]
  },
  {
   "cell_type": "markdown",
   "metadata": {
    "deletable": false,
    "editable": false,
    "nbgrader": {
     "cell_type": "markdown",
     "checksum": "f30e95a28c23924593e4f0be59921efc",
     "grade": false,
     "grade_id": "cell-66af5164e897befd",
     "locked": true,
     "schema_version": 3,
     "solution": false,
     "task": false
    }
   },
   "source": [
    "# THIS IS THE END OF THE ASSIGNMENT, PLEASE SUBMIT TO THIS MACDRIVE LINK WITH THIS ASSIGNMENT RENAMED ACCORDING TO YOUR MACID \n",
    "\n",
    "https://macdrive.mcmaster.ca/u/d/818705de222f47838a63/\n"
   ]
  }
 ],
 "metadata": {
  "@webio": {
   "lastCommId": null,
   "lastKernelId": null
  },
  "kernelspec": {
   "name": "Python 3.8.5 32-bit",
   "display_name": "Python 3.8.5 32-bit",
   "metadata": {
    "interpreter": {
     "hash": "4caad96d28be6d4402bb21e8303330eb42869caa9a2976b0016b191826aaa1bf"
    }
   }
  },
  "language_info": {
   "codemirror_mode": {
    "name": "ipython",
    "version": 3
   },
   "file_extension": ".py",
   "mimetype": "text/x-python",
   "name": "python",
   "nbconvert_exporter": "python",
   "pygments_lexer": "ipython3",
   "version": "3.8.5-final"
  }
 },
 "nbformat": 4,
 "nbformat_minor": 2
}